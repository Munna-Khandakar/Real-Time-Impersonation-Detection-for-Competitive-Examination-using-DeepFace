{
 "cells": [
  {
   "cell_type": "code",
   "execution_count": 2,
   "metadata": {},
   "outputs": [],
   "source": [
    "import pandas as pd\n",
    "from deepface import DeepFace"
   ]
  },
  {
   "cell_type": "code",
   "execution_count": 25,
   "metadata": {},
   "outputs": [
    {
     "data": {
      "text/html": [
       "<div>\n",
       "<style scoped>\n",
       "    .dataframe tbody tr th:only-of-type {\n",
       "        vertical-align: middle;\n",
       "    }\n",
       "\n",
       "    .dataframe tbody tr th {\n",
       "        vertical-align: top;\n",
       "    }\n",
       "\n",
       "    .dataframe thead th {\n",
       "        text-align: right;\n",
       "    }\n",
       "</style>\n",
       "<table border=\"1\" class=\"dataframe\">\n",
       "  <thead>\n",
       "    <tr style=\"text-align: right;\">\n",
       "      <th></th>\n",
       "      <th>file_x</th>\n",
       "      <th>file_y</th>\n",
       "      <th>Decision</th>\n",
       "    </tr>\n",
       "  </thead>\n",
       "  <tbody>\n",
       "    <tr>\n",
       "      <td>0</td>\n",
       "      <td>img20.jpg</td>\n",
       "      <td>img21.jpg</td>\n",
       "      <td>Yes</td>\n",
       "    </tr>\n",
       "    <tr>\n",
       "      <td>1</td>\n",
       "      <td>img16.jpg</td>\n",
       "      <td>img17.jpg</td>\n",
       "      <td>Yes</td>\n",
       "    </tr>\n",
       "    <tr>\n",
       "      <td>2</td>\n",
       "      <td>img3.jpg</td>\n",
       "      <td>img12.jpg</td>\n",
       "      <td>Yes</td>\n",
       "    </tr>\n",
       "    <tr>\n",
       "      <td>3</td>\n",
       "      <td>img22.jpg</td>\n",
       "      <td>img23.jpg</td>\n",
       "      <td>Yes</td>\n",
       "    </tr>\n",
       "    <tr>\n",
       "      <td>4</td>\n",
       "      <td>img24.jpg</td>\n",
       "      <td>img25.jpg</td>\n",
       "      <td>Yes</td>\n",
       "    </tr>\n",
       "  </tbody>\n",
       "</table>\n",
       "</div>"
      ],
      "text/plain": [
       "      file_x     file_y Decision\n",
       "0  img20.jpg  img21.jpg      Yes\n",
       "1  img16.jpg  img17.jpg      Yes\n",
       "2   img3.jpg  img12.jpg      Yes\n",
       "3  img22.jpg  img23.jpg      Yes\n",
       "4  img24.jpg  img25.jpg      Yes"
      ]
     },
     "execution_count": 25,
     "metadata": {},
     "output_type": "execute_result"
    }
   ],
   "source": [
    "df = pd.read_csv('dataset/Labeled Faces in the Wild Dataset/master.csv')\n",
    "df.head()"
   ]
  },
  {
   "cell_type": "code",
   "execution_count": 26,
   "metadata": {},
   "outputs": [
    {
     "data": {
      "text/plain": [
       "No     262\n",
       "Yes     38\n",
       "Name: Decision, dtype: int64"
      ]
     },
     "execution_count": 26,
     "metadata": {},
     "output_type": "execute_result"
    }
   ],
   "source": [
    "df.Decision.value_counts()"
   ]
  },
  {
   "cell_type": "code",
   "execution_count": 4,
   "metadata": {},
   "outputs": [],
   "source": [
    "df['file_x'] = 'dataset/' + df['file_x'].astype(str)\n",
    "df['file_y'] = 'dataset/' + df['file_y'].astype(str)"
   ]
  },
  {
   "cell_type": "code",
   "execution_count": 5,
   "metadata": {},
   "outputs": [
    {
     "data": {
      "text/plain": [
       "[['dataset/img20.jpg', 'dataset/img21.jpg'],\n",
       " ['dataset/img16.jpg', 'dataset/img17.jpg'],\n",
       " ['dataset/img3.jpg', 'dataset/img12.jpg'],\n",
       " ['dataset/img22.jpg', 'dataset/img23.jpg'],\n",
       " ['dataset/img24.jpg', 'dataset/img25.jpg'],\n",
       " ['dataset/img1.jpg', 'dataset/img2.jpg'],\n",
       " ['dataset/img1.jpg', 'dataset/img4.jpg'],\n",
       " ['dataset/img1.jpg', 'dataset/img5.jpg'],\n",
       " ['dataset/img1.jpg', 'dataset/img6.jpg'],\n",
       " ['dataset/img1.jpg', 'dataset/img7.jpg'],\n",
       " ['dataset/img1.jpg', 'dataset/img10.jpg'],\n",
       " ['dataset/img1.jpg', 'dataset/img11.jpg'],\n",
       " ['dataset/img2.jpg', 'dataset/img4.jpg'],\n",
       " ['dataset/img2.jpg', 'dataset/img5.jpg'],\n",
       " ['dataset/img2.jpg', 'dataset/img6.jpg'],\n",
       " ['dataset/img2.jpg', 'dataset/img7.jpg'],\n",
       " ['dataset/img2.jpg', 'dataset/img10.jpg'],\n",
       " ['dataset/img2.jpg', 'dataset/img11.jpg'],\n",
       " ['dataset/img4.jpg', 'dataset/img5.jpg'],\n",
       " ['dataset/img4.jpg', 'dataset/img6.jpg'],\n",
       " ['dataset/img4.jpg', 'dataset/img7.jpg'],\n",
       " ['dataset/img4.jpg', 'dataset/img10.jpg'],\n",
       " ['dataset/img4.jpg', 'dataset/img11.jpg'],\n",
       " ['dataset/img5.jpg', 'dataset/img6.jpg'],\n",
       " ['dataset/img5.jpg', 'dataset/img7.jpg'],\n",
       " ['dataset/img5.jpg', 'dataset/img10.jpg'],\n",
       " ['dataset/img5.jpg', 'dataset/img11.jpg'],\n",
       " ['dataset/img6.jpg', 'dataset/img7.jpg'],\n",
       " ['dataset/img6.jpg', 'dataset/img10.jpg'],\n",
       " ['dataset/img6.jpg', 'dataset/img11.jpg'],\n",
       " ['dataset/img7.jpg', 'dataset/img10.jpg'],\n",
       " ['dataset/img7.jpg', 'dataset/img11.jpg'],\n",
       " ['dataset/img10.jpg', 'dataset/img11.jpg'],\n",
       " ['dataset/img13.jpg', 'dataset/img14.jpg'],\n",
       " ['dataset/img13.jpg', 'dataset/img15.jpg'],\n",
       " ['dataset/img14.jpg', 'dataset/img15.jpg'],\n",
       " ['dataset/img18.jpg', 'dataset/img19.jpg'],\n",
       " ['dataset/img8.jpg', 'dataset/img9.jpg'],\n",
       " ['dataset/img20.jpg', 'dataset/img16.jpg'],\n",
       " ['dataset/img20.jpg', 'dataset/img17.jpg'],\n",
       " ['dataset/img21.jpg', 'dataset/img16.jpg'],\n",
       " ['dataset/img21.jpg', 'dataset/img17.jpg'],\n",
       " ['dataset/img20.jpg', 'dataset/img3.jpg'],\n",
       " ['dataset/img20.jpg', 'dataset/img12.jpg'],\n",
       " ['dataset/img21.jpg', 'dataset/img3.jpg'],\n",
       " ['dataset/img21.jpg', 'dataset/img12.jpg'],\n",
       " ['dataset/img20.jpg', 'dataset/img22.jpg'],\n",
       " ['dataset/img20.jpg', 'dataset/img23.jpg'],\n",
       " ['dataset/img21.jpg', 'dataset/img22.jpg'],\n",
       " ['dataset/img21.jpg', 'dataset/img23.jpg'],\n",
       " ['dataset/img20.jpg', 'dataset/img24.jpg'],\n",
       " ['dataset/img20.jpg', 'dataset/img25.jpg'],\n",
       " ['dataset/img21.jpg', 'dataset/img24.jpg'],\n",
       " ['dataset/img21.jpg', 'dataset/img25.jpg'],\n",
       " ['dataset/img20.jpg', 'dataset/img1.jpg'],\n",
       " ['dataset/img20.jpg', 'dataset/img2.jpg'],\n",
       " ['dataset/img20.jpg', 'dataset/img4.jpg'],\n",
       " ['dataset/img20.jpg', 'dataset/img5.jpg'],\n",
       " ['dataset/img20.jpg', 'dataset/img6.jpg'],\n",
       " ['dataset/img20.jpg', 'dataset/img7.jpg'],\n",
       " ['dataset/img20.jpg', 'dataset/img10.jpg'],\n",
       " ['dataset/img20.jpg', 'dataset/img11.jpg'],\n",
       " ['dataset/img21.jpg', 'dataset/img1.jpg'],\n",
       " ['dataset/img21.jpg', 'dataset/img2.jpg'],\n",
       " ['dataset/img21.jpg', 'dataset/img4.jpg'],\n",
       " ['dataset/img21.jpg', 'dataset/img5.jpg'],\n",
       " ['dataset/img21.jpg', 'dataset/img6.jpg'],\n",
       " ['dataset/img21.jpg', 'dataset/img7.jpg'],\n",
       " ['dataset/img21.jpg', 'dataset/img10.jpg'],\n",
       " ['dataset/img21.jpg', 'dataset/img11.jpg'],\n",
       " ['dataset/img20.jpg', 'dataset/img13.jpg'],\n",
       " ['dataset/img20.jpg', 'dataset/img14.jpg'],\n",
       " ['dataset/img20.jpg', 'dataset/img15.jpg'],\n",
       " ['dataset/img21.jpg', 'dataset/img13.jpg'],\n",
       " ['dataset/img21.jpg', 'dataset/img14.jpg'],\n",
       " ['dataset/img21.jpg', 'dataset/img15.jpg'],\n",
       " ['dataset/img20.jpg', 'dataset/img18.jpg'],\n",
       " ['dataset/img20.jpg', 'dataset/img19.jpg'],\n",
       " ['dataset/img21.jpg', 'dataset/img18.jpg'],\n",
       " ['dataset/img21.jpg', 'dataset/img19.jpg'],\n",
       " ['dataset/img20.jpg', 'dataset/img8.jpg'],\n",
       " ['dataset/img20.jpg', 'dataset/img9.jpg'],\n",
       " ['dataset/img21.jpg', 'dataset/img8.jpg'],\n",
       " ['dataset/img21.jpg', 'dataset/img9.jpg'],\n",
       " ['dataset/img16.jpg', 'dataset/img3.jpg'],\n",
       " ['dataset/img16.jpg', 'dataset/img12.jpg'],\n",
       " ['dataset/img17.jpg', 'dataset/img3.jpg'],\n",
       " ['dataset/img17.jpg', 'dataset/img12.jpg'],\n",
       " ['dataset/img16.jpg', 'dataset/img22.jpg'],\n",
       " ['dataset/img16.jpg', 'dataset/img23.jpg'],\n",
       " ['dataset/img17.jpg', 'dataset/img22.jpg'],\n",
       " ['dataset/img17.jpg', 'dataset/img23.jpg'],\n",
       " ['dataset/img16.jpg', 'dataset/img24.jpg'],\n",
       " ['dataset/img16.jpg', 'dataset/img25.jpg'],\n",
       " ['dataset/img17.jpg', 'dataset/img24.jpg'],\n",
       " ['dataset/img17.jpg', 'dataset/img25.jpg'],\n",
       " ['dataset/img16.jpg', 'dataset/img1.jpg'],\n",
       " ['dataset/img16.jpg', 'dataset/img2.jpg'],\n",
       " ['dataset/img16.jpg', 'dataset/img4.jpg'],\n",
       " ['dataset/img16.jpg', 'dataset/img5.jpg'],\n",
       " ['dataset/img16.jpg', 'dataset/img6.jpg'],\n",
       " ['dataset/img16.jpg', 'dataset/img7.jpg'],\n",
       " ['dataset/img16.jpg', 'dataset/img10.jpg'],\n",
       " ['dataset/img16.jpg', 'dataset/img11.jpg'],\n",
       " ['dataset/img17.jpg', 'dataset/img1.jpg'],\n",
       " ['dataset/img17.jpg', 'dataset/img2.jpg'],\n",
       " ['dataset/img17.jpg', 'dataset/img4.jpg'],\n",
       " ['dataset/img17.jpg', 'dataset/img5.jpg'],\n",
       " ['dataset/img17.jpg', 'dataset/img6.jpg'],\n",
       " ['dataset/img17.jpg', 'dataset/img7.jpg'],\n",
       " ['dataset/img17.jpg', 'dataset/img10.jpg'],\n",
       " ['dataset/img17.jpg', 'dataset/img11.jpg'],\n",
       " ['dataset/img16.jpg', 'dataset/img13.jpg'],\n",
       " ['dataset/img16.jpg', 'dataset/img14.jpg'],\n",
       " ['dataset/img16.jpg', 'dataset/img15.jpg'],\n",
       " ['dataset/img17.jpg', 'dataset/img13.jpg'],\n",
       " ['dataset/img17.jpg', 'dataset/img14.jpg'],\n",
       " ['dataset/img17.jpg', 'dataset/img15.jpg'],\n",
       " ['dataset/img16.jpg', 'dataset/img18.jpg'],\n",
       " ['dataset/img16.jpg', 'dataset/img19.jpg'],\n",
       " ['dataset/img17.jpg', 'dataset/img18.jpg'],\n",
       " ['dataset/img17.jpg', 'dataset/img19.jpg'],\n",
       " ['dataset/img16.jpg', 'dataset/img8.jpg'],\n",
       " ['dataset/img16.jpg', 'dataset/img9.jpg'],\n",
       " ['dataset/img17.jpg', 'dataset/img8.jpg'],\n",
       " ['dataset/img17.jpg', 'dataset/img9.jpg'],\n",
       " ['dataset/img3.jpg', 'dataset/img22.jpg'],\n",
       " ['dataset/img3.jpg', 'dataset/img23.jpg'],\n",
       " ['dataset/img12.jpg', 'dataset/img22.jpg'],\n",
       " ['dataset/img12.jpg', 'dataset/img23.jpg'],\n",
       " ['dataset/img3.jpg', 'dataset/img24.jpg'],\n",
       " ['dataset/img3.jpg', 'dataset/img25.jpg'],\n",
       " ['dataset/img12.jpg', 'dataset/img24.jpg'],\n",
       " ['dataset/img12.jpg', 'dataset/img25.jpg'],\n",
       " ['dataset/img3.jpg', 'dataset/img1.jpg'],\n",
       " ['dataset/img3.jpg', 'dataset/img2.jpg'],\n",
       " ['dataset/img3.jpg', 'dataset/img4.jpg'],\n",
       " ['dataset/img3.jpg', 'dataset/img5.jpg'],\n",
       " ['dataset/img3.jpg', 'dataset/img6.jpg'],\n",
       " ['dataset/img3.jpg', 'dataset/img7.jpg'],\n",
       " ['dataset/img3.jpg', 'dataset/img10.jpg'],\n",
       " ['dataset/img3.jpg', 'dataset/img11.jpg'],\n",
       " ['dataset/img12.jpg', 'dataset/img1.jpg'],\n",
       " ['dataset/img12.jpg', 'dataset/img2.jpg'],\n",
       " ['dataset/img12.jpg', 'dataset/img4.jpg'],\n",
       " ['dataset/img12.jpg', 'dataset/img5.jpg'],\n",
       " ['dataset/img12.jpg', 'dataset/img6.jpg'],\n",
       " ['dataset/img12.jpg', 'dataset/img7.jpg'],\n",
       " ['dataset/img12.jpg', 'dataset/img10.jpg'],\n",
       " ['dataset/img12.jpg', 'dataset/img11.jpg'],\n",
       " ['dataset/img3.jpg', 'dataset/img13.jpg'],\n",
       " ['dataset/img3.jpg', 'dataset/img14.jpg'],\n",
       " ['dataset/img3.jpg', 'dataset/img15.jpg'],\n",
       " ['dataset/img12.jpg', 'dataset/img13.jpg'],\n",
       " ['dataset/img12.jpg', 'dataset/img14.jpg'],\n",
       " ['dataset/img12.jpg', 'dataset/img15.jpg'],\n",
       " ['dataset/img3.jpg', 'dataset/img18.jpg'],\n",
       " ['dataset/img3.jpg', 'dataset/img19.jpg'],\n",
       " ['dataset/img12.jpg', 'dataset/img18.jpg'],\n",
       " ['dataset/img12.jpg', 'dataset/img19.jpg'],\n",
       " ['dataset/img3.jpg', 'dataset/img8.jpg'],\n",
       " ['dataset/img3.jpg', 'dataset/img9.jpg'],\n",
       " ['dataset/img12.jpg', 'dataset/img8.jpg'],\n",
       " ['dataset/img12.jpg', 'dataset/img9.jpg'],\n",
       " ['dataset/img22.jpg', 'dataset/img24.jpg'],\n",
       " ['dataset/img22.jpg', 'dataset/img25.jpg'],\n",
       " ['dataset/img23.jpg', 'dataset/img24.jpg'],\n",
       " ['dataset/img23.jpg', 'dataset/img25.jpg'],\n",
       " ['dataset/img22.jpg', 'dataset/img1.jpg'],\n",
       " ['dataset/img22.jpg', 'dataset/img2.jpg'],\n",
       " ['dataset/img22.jpg', 'dataset/img4.jpg'],\n",
       " ['dataset/img22.jpg', 'dataset/img5.jpg'],\n",
       " ['dataset/img22.jpg', 'dataset/img6.jpg'],\n",
       " ['dataset/img22.jpg', 'dataset/img7.jpg'],\n",
       " ['dataset/img22.jpg', 'dataset/img10.jpg'],\n",
       " ['dataset/img22.jpg', 'dataset/img11.jpg'],\n",
       " ['dataset/img23.jpg', 'dataset/img1.jpg'],\n",
       " ['dataset/img23.jpg', 'dataset/img2.jpg'],\n",
       " ['dataset/img23.jpg', 'dataset/img4.jpg'],\n",
       " ['dataset/img23.jpg', 'dataset/img5.jpg'],\n",
       " ['dataset/img23.jpg', 'dataset/img6.jpg'],\n",
       " ['dataset/img23.jpg', 'dataset/img7.jpg'],\n",
       " ['dataset/img23.jpg', 'dataset/img10.jpg'],\n",
       " ['dataset/img23.jpg', 'dataset/img11.jpg'],\n",
       " ['dataset/img22.jpg', 'dataset/img13.jpg'],\n",
       " ['dataset/img22.jpg', 'dataset/img14.jpg'],\n",
       " ['dataset/img22.jpg', 'dataset/img15.jpg'],\n",
       " ['dataset/img23.jpg', 'dataset/img13.jpg'],\n",
       " ['dataset/img23.jpg', 'dataset/img14.jpg'],\n",
       " ['dataset/img23.jpg', 'dataset/img15.jpg'],\n",
       " ['dataset/img22.jpg', 'dataset/img18.jpg'],\n",
       " ['dataset/img22.jpg', 'dataset/img19.jpg'],\n",
       " ['dataset/img23.jpg', 'dataset/img18.jpg'],\n",
       " ['dataset/img23.jpg', 'dataset/img19.jpg'],\n",
       " ['dataset/img22.jpg', 'dataset/img8.jpg'],\n",
       " ['dataset/img22.jpg', 'dataset/img9.jpg'],\n",
       " ['dataset/img23.jpg', 'dataset/img8.jpg'],\n",
       " ['dataset/img23.jpg', 'dataset/img9.jpg'],\n",
       " ['dataset/img24.jpg', 'dataset/img1.jpg'],\n",
       " ['dataset/img24.jpg', 'dataset/img2.jpg'],\n",
       " ['dataset/img24.jpg', 'dataset/img4.jpg'],\n",
       " ['dataset/img24.jpg', 'dataset/img5.jpg'],\n",
       " ['dataset/img24.jpg', 'dataset/img6.jpg'],\n",
       " ['dataset/img24.jpg', 'dataset/img7.jpg'],\n",
       " ['dataset/img24.jpg', 'dataset/img10.jpg'],\n",
       " ['dataset/img24.jpg', 'dataset/img11.jpg'],\n",
       " ['dataset/img25.jpg', 'dataset/img1.jpg'],\n",
       " ['dataset/img25.jpg', 'dataset/img2.jpg'],\n",
       " ['dataset/img25.jpg', 'dataset/img4.jpg'],\n",
       " ['dataset/img25.jpg', 'dataset/img5.jpg'],\n",
       " ['dataset/img25.jpg', 'dataset/img6.jpg'],\n",
       " ['dataset/img25.jpg', 'dataset/img7.jpg'],\n",
       " ['dataset/img25.jpg', 'dataset/img10.jpg'],\n",
       " ['dataset/img25.jpg', 'dataset/img11.jpg'],\n",
       " ['dataset/img24.jpg', 'dataset/img13.jpg'],\n",
       " ['dataset/img24.jpg', 'dataset/img14.jpg'],\n",
       " ['dataset/img24.jpg', 'dataset/img15.jpg'],\n",
       " ['dataset/img25.jpg', 'dataset/img13.jpg'],\n",
       " ['dataset/img25.jpg', 'dataset/img14.jpg'],\n",
       " ['dataset/img25.jpg', 'dataset/img15.jpg'],\n",
       " ['dataset/img24.jpg', 'dataset/img18.jpg'],\n",
       " ['dataset/img24.jpg', 'dataset/img19.jpg'],\n",
       " ['dataset/img25.jpg', 'dataset/img18.jpg'],\n",
       " ['dataset/img25.jpg', 'dataset/img19.jpg'],\n",
       " ['dataset/img24.jpg', 'dataset/img8.jpg'],\n",
       " ['dataset/img24.jpg', 'dataset/img9.jpg'],\n",
       " ['dataset/img25.jpg', 'dataset/img8.jpg'],\n",
       " ['dataset/img25.jpg', 'dataset/img9.jpg'],\n",
       " ['dataset/img1.jpg', 'dataset/img13.jpg'],\n",
       " ['dataset/img1.jpg', 'dataset/img14.jpg'],\n",
       " ['dataset/img1.jpg', 'dataset/img15.jpg'],\n",
       " ['dataset/img2.jpg', 'dataset/img13.jpg'],\n",
       " ['dataset/img2.jpg', 'dataset/img14.jpg'],\n",
       " ['dataset/img2.jpg', 'dataset/img15.jpg'],\n",
       " ['dataset/img4.jpg', 'dataset/img13.jpg'],\n",
       " ['dataset/img4.jpg', 'dataset/img14.jpg'],\n",
       " ['dataset/img4.jpg', 'dataset/img15.jpg'],\n",
       " ['dataset/img5.jpg', 'dataset/img13.jpg'],\n",
       " ['dataset/img5.jpg', 'dataset/img14.jpg'],\n",
       " ['dataset/img5.jpg', 'dataset/img15.jpg'],\n",
       " ['dataset/img6.jpg', 'dataset/img13.jpg'],\n",
       " ['dataset/img6.jpg', 'dataset/img14.jpg'],\n",
       " ['dataset/img6.jpg', 'dataset/img15.jpg'],\n",
       " ['dataset/img7.jpg', 'dataset/img13.jpg'],\n",
       " ['dataset/img7.jpg', 'dataset/img14.jpg'],\n",
       " ['dataset/img7.jpg', 'dataset/img15.jpg'],\n",
       " ['dataset/img10.jpg', 'dataset/img13.jpg'],\n",
       " ['dataset/img10.jpg', 'dataset/img14.jpg'],\n",
       " ['dataset/img10.jpg', 'dataset/img15.jpg'],\n",
       " ['dataset/img11.jpg', 'dataset/img13.jpg'],\n",
       " ['dataset/img11.jpg', 'dataset/img14.jpg'],\n",
       " ['dataset/img11.jpg', 'dataset/img15.jpg'],\n",
       " ['dataset/img1.jpg', 'dataset/img18.jpg'],\n",
       " ['dataset/img1.jpg', 'dataset/img19.jpg'],\n",
       " ['dataset/img2.jpg', 'dataset/img18.jpg'],\n",
       " ['dataset/img2.jpg', 'dataset/img19.jpg'],\n",
       " ['dataset/img4.jpg', 'dataset/img18.jpg'],\n",
       " ['dataset/img4.jpg', 'dataset/img19.jpg'],\n",
       " ['dataset/img5.jpg', 'dataset/img18.jpg'],\n",
       " ['dataset/img5.jpg', 'dataset/img19.jpg'],\n",
       " ['dataset/img6.jpg', 'dataset/img18.jpg'],\n",
       " ['dataset/img6.jpg', 'dataset/img19.jpg'],\n",
       " ['dataset/img7.jpg', 'dataset/img18.jpg'],\n",
       " ['dataset/img7.jpg', 'dataset/img19.jpg'],\n",
       " ['dataset/img10.jpg', 'dataset/img18.jpg'],\n",
       " ['dataset/img10.jpg', 'dataset/img19.jpg'],\n",
       " ['dataset/img11.jpg', 'dataset/img18.jpg'],\n",
       " ['dataset/img11.jpg', 'dataset/img19.jpg'],\n",
       " ['dataset/img1.jpg', 'dataset/img8.jpg'],\n",
       " ['dataset/img1.jpg', 'dataset/img9.jpg'],\n",
       " ['dataset/img2.jpg', 'dataset/img8.jpg'],\n",
       " ['dataset/img2.jpg', 'dataset/img9.jpg'],\n",
       " ['dataset/img4.jpg', 'dataset/img8.jpg'],\n",
       " ['dataset/img4.jpg', 'dataset/img9.jpg'],\n",
       " ['dataset/img5.jpg', 'dataset/img8.jpg'],\n",
       " ['dataset/img5.jpg', 'dataset/img9.jpg'],\n",
       " ['dataset/img6.jpg', 'dataset/img8.jpg'],\n",
       " ['dataset/img6.jpg', 'dataset/img9.jpg'],\n",
       " ['dataset/img7.jpg', 'dataset/img8.jpg'],\n",
       " ['dataset/img7.jpg', 'dataset/img9.jpg'],\n",
       " ['dataset/img10.jpg', 'dataset/img8.jpg'],\n",
       " ['dataset/img10.jpg', 'dataset/img9.jpg'],\n",
       " ['dataset/img11.jpg', 'dataset/img8.jpg'],\n",
       " ['dataset/img11.jpg', 'dataset/img9.jpg'],\n",
       " ['dataset/img13.jpg', 'dataset/img18.jpg'],\n",
       " ['dataset/img13.jpg', 'dataset/img19.jpg'],\n",
       " ['dataset/img14.jpg', 'dataset/img18.jpg'],\n",
       " ['dataset/img14.jpg', 'dataset/img19.jpg'],\n",
       " ['dataset/img15.jpg', 'dataset/img18.jpg'],\n",
       " ['dataset/img15.jpg', 'dataset/img19.jpg'],\n",
       " ['dataset/img13.jpg', 'dataset/img8.jpg'],\n",
       " ['dataset/img13.jpg', 'dataset/img9.jpg'],\n",
       " ['dataset/img14.jpg', 'dataset/img8.jpg'],\n",
       " ['dataset/img14.jpg', 'dataset/img9.jpg'],\n",
       " ['dataset/img15.jpg', 'dataset/img8.jpg'],\n",
       " ['dataset/img15.jpg', 'dataset/img9.jpg'],\n",
       " ['dataset/img18.jpg', 'dataset/img8.jpg'],\n",
       " ['dataset/img18.jpg', 'dataset/img9.jpg'],\n",
       " ['dataset/img19.jpg', 'dataset/img8.jpg'],\n",
       " ['dataset/img19.jpg', 'dataset/img9.jpg']]"
      ]
     },
     "execution_count": 5,
     "metadata": {},
     "output_type": "execute_result"
    }
   ],
   "source": [
    "instances = df[[\"file_x\", \"file_y\"]].values.tolist()\n",
    "instances"
   ]
  },
  {
   "cell_type": "code",
   "execution_count": 6,
   "metadata": {},
   "outputs": [],
   "source": [
    "model_name = \"Facenet\"\n",
    "distance_metric = \"euclidean\""
   ]
  },
  {
   "cell_type": "code",
   "execution_count": 7,
   "metadata": {},
   "outputs": [
    {
     "name": "stderr",
     "output_type": "stream",
     "text": [
      "Verification: 100%|██████████| 300/300 [11:32<00:00,  2.31s/it]\n"
     ]
    }
   ],
   "source": [
    "resp_obj = DeepFace.verify(instances, model_name = model_name, distance_metric = distance_metric)"
   ]
  },
  {
   "cell_type": "code",
   "execution_count": 8,
   "metadata": {},
   "outputs": [],
   "source": [
    "distances = []\n",
    "for i in range(0, len(instances)):\n",
    "    distance = round(resp_obj[\"pair_%s\" % (i+1)][\"distance\"], 4)\n",
    "    distances.append(distance)"
   ]
  },
  {
   "cell_type": "code",
   "execution_count": 9,
   "metadata": {},
   "outputs": [
    {
     "data": {
      "text/html": [
       "<div>\n",
       "<style scoped>\n",
       "    .dataframe tbody tr th:only-of-type {\n",
       "        vertical-align: middle;\n",
       "    }\n",
       "\n",
       "    .dataframe tbody tr th {\n",
       "        vertical-align: top;\n",
       "    }\n",
       "\n",
       "    .dataframe thead th {\n",
       "        text-align: right;\n",
       "    }\n",
       "</style>\n",
       "<table border=\"1\" class=\"dataframe\">\n",
       "  <thead>\n",
       "    <tr style=\"text-align: right;\">\n",
       "      <th></th>\n",
       "      <th>file_x</th>\n",
       "      <th>file_y</th>\n",
       "      <th>Decision</th>\n",
       "      <th>distance</th>\n",
       "    </tr>\n",
       "  </thead>\n",
       "  <tbody>\n",
       "    <tr>\n",
       "      <td>0</td>\n",
       "      <td>dataset/img20.jpg</td>\n",
       "      <td>dataset/img21.jpg</td>\n",
       "      <td>Yes</td>\n",
       "      <td>5.2676</td>\n",
       "    </tr>\n",
       "    <tr>\n",
       "      <td>1</td>\n",
       "      <td>dataset/img16.jpg</td>\n",
       "      <td>dataset/img17.jpg</td>\n",
       "      <td>Yes</td>\n",
       "      <td>7.5863</td>\n",
       "    </tr>\n",
       "    <tr>\n",
       "      <td>2</td>\n",
       "      <td>dataset/img3.jpg</td>\n",
       "      <td>dataset/img12.jpg</td>\n",
       "      <td>Yes</td>\n",
       "      <td>10.5049</td>\n",
       "    </tr>\n",
       "    <tr>\n",
       "      <td>3</td>\n",
       "      <td>dataset/img22.jpg</td>\n",
       "      <td>dataset/img23.jpg</td>\n",
       "      <td>Yes</td>\n",
       "      <td>8.2893</td>\n",
       "    </tr>\n",
       "    <tr>\n",
       "      <td>4</td>\n",
       "      <td>dataset/img24.jpg</td>\n",
       "      <td>dataset/img25.jpg</td>\n",
       "      <td>Yes</td>\n",
       "      <td>5.2594</td>\n",
       "    </tr>\n",
       "  </tbody>\n",
       "</table>\n",
       "</div>"
      ],
      "text/plain": [
       "              file_x             file_y Decision  distance\n",
       "0  dataset/img20.jpg  dataset/img21.jpg      Yes    5.2676\n",
       "1  dataset/img16.jpg  dataset/img17.jpg      Yes    7.5863\n",
       "2   dataset/img3.jpg  dataset/img12.jpg      Yes   10.5049\n",
       "3  dataset/img22.jpg  dataset/img23.jpg      Yes    8.2893\n",
       "4  dataset/img24.jpg  dataset/img25.jpg      Yes    5.2594"
      ]
     },
     "execution_count": 9,
     "metadata": {},
     "output_type": "execute_result"
    }
   ],
   "source": [
    "df[\"distance\"] = distances\n",
    "df.head()"
   ]
  },
  {
   "cell_type": "code",
   "execution_count": 11,
   "metadata": {},
   "outputs": [
    {
     "data": {
      "text/plain": [
       "<matplotlib.axes._subplots.AxesSubplot at 0x1d958439e88>"
      ]
     },
     "execution_count": 11,
     "metadata": {},
     "output_type": "execute_result"
    },
    {
     "data": {
      "image/png": "[encoded data removed]",
      "text/plain": [
       "<Figure size 432x288 with 1 Axes>"
      ]
     },
     "metadata": {
      "needs_background": "light"
     },
     "output_type": "display_data"
    }
   ],
   "source": [
    "df[df.Decision == \"Yes\"].distance.plot.kde()\n",
    "df[df.Decision == \"No\"].distance.plot.kde()"
   ]
  },
  {
   "cell_type": "code",
   "execution_count": 12,
   "metadata": {},
   "outputs": [],
   "source": [
    "#pip install chefboost\n",
    "from chefboost import Chefboost as chef"
   ]
  },
  {
   "cell_type": "code",
   "execution_count": 13,
   "metadata": {},
   "outputs": [],
   "source": [
    "config = {'algorithm': 'C4.5'}"
   ]
  },
  {
   "cell_type": "code",
   "execution_count": 14,
   "metadata": {},
   "outputs": [
    {
     "name": "stdout",
     "output_type": "stream",
     "text": [
      "[INFO]:  2 CPU cores will be allocated in parallel running\n",
      "C4.5  tree is going to be built...\n",
      "-------------------------\n",
      "finished in  0.6719963550567627  seconds\n",
      "-------------------------\n",
      "Evaluate  train set\n",
      "-------------------------\n",
      "Accuracy:  97.66666666666667 % on  300  instances\n",
      "Labels:  ['Yes' 'No']\n",
      "Confusion matrix:  [[31, 0], [7, 262]]\n",
      "Precision:  100.0 %, Recall:  81.5789 %, F1:  89.855 %\n"
     ]
    }
   ],
   "source": [
    "tmp_df = df[['distance', 'Decision']].rename(columns = {\"decision\": \"Decision\"}).copy()\n",
    "model = chef.fit(tmp_df, config)"
   ]
  },
  {
   "cell_type": "code",
   "execution_count": 15,
   "metadata": {},
   "outputs": [],
   "source": [
    "threshold = 11.6420 #comes from c4.5 algorithm"
   ]
  },
  {
   "cell_type": "code",
   "execution_count": 16,
   "metadata": {},
   "outputs": [],
   "source": [
    "df[\"prediction\"] = \"No\""
   ]
  },
  {
   "cell_type": "code",
   "execution_count": 17,
   "metadata": {},
   "outputs": [],
   "source": [
    "idx = df[df.distance <= threshold].index\n",
    "df.loc[idx, 'prediction'] = 'Yes'"
   ]
  },
  {
   "cell_type": "code",
   "execution_count": 18,
   "metadata": {},
   "outputs": [
    {
     "data": {
      "text/html": [
       "<div>\n",
       "<style scoped>\n",
       "    .dataframe tbody tr th:only-of-type {\n",
       "        vertical-align: middle;\n",
       "    }\n",
       "\n",
       "    .dataframe tbody tr th {\n",
       "        vertical-align: top;\n",
       "    }\n",
       "\n",
       "    .dataframe thead th {\n",
       "        text-align: right;\n",
       "    }\n",
       "</style>\n",
       "<table border=\"1\" class=\"dataframe\">\n",
       "  <thead>\n",
       "    <tr style=\"text-align: right;\">\n",
       "      <th></th>\n",
       "      <th>file_x</th>\n",
       "      <th>file_y</th>\n",
       "      <th>Decision</th>\n",
       "      <th>distance</th>\n",
       "      <th>prediction</th>\n",
       "    </tr>\n",
       "  </thead>\n",
       "  <tbody>\n",
       "    <tr>\n",
       "      <td>123</td>\n",
       "      <td>dataset/img16.jpg</td>\n",
       "      <td>dataset/img9.jpg</td>\n",
       "      <td>No</td>\n",
       "      <td>17.4126</td>\n",
       "      <td>No</td>\n",
       "    </tr>\n",
       "    <tr>\n",
       "      <td>268</td>\n",
       "      <td>dataset/img1.jpg</td>\n",
       "      <td>dataset/img8.jpg</td>\n",
       "      <td>No</td>\n",
       "      <td>16.0000</td>\n",
       "      <td>No</td>\n",
       "    </tr>\n",
       "    <tr>\n",
       "      <td>269</td>\n",
       "      <td>dataset/img1.jpg</td>\n",
       "      <td>dataset/img9.jpg</td>\n",
       "      <td>No</td>\n",
       "      <td>15.3350</td>\n",
       "      <td>No</td>\n",
       "    </tr>\n",
       "    <tr>\n",
       "      <td>66</td>\n",
       "      <td>dataset/img21.jpg</td>\n",
       "      <td>dataset/img6.jpg</td>\n",
       "      <td>No</td>\n",
       "      <td>16.4722</td>\n",
       "      <td>No</td>\n",
       "    </tr>\n",
       "    <tr>\n",
       "      <td>69</td>\n",
       "      <td>dataset/img21.jpg</td>\n",
       "      <td>dataset/img11.jpg</td>\n",
       "      <td>No</td>\n",
       "      <td>16.4581</td>\n",
       "      <td>No</td>\n",
       "    </tr>\n",
       "  </tbody>\n",
       "</table>\n",
       "</div>"
      ],
      "text/plain": [
       "                file_x             file_y Decision  distance prediction\n",
       "123  dataset/img16.jpg   dataset/img9.jpg       No   17.4126         No\n",
       "268   dataset/img1.jpg   dataset/img8.jpg       No   16.0000         No\n",
       "269   dataset/img1.jpg   dataset/img9.jpg       No   15.3350         No\n",
       "66   dataset/img21.jpg   dataset/img6.jpg       No   16.4722         No\n",
       "69   dataset/img21.jpg  dataset/img11.jpg       No   16.4581         No"
      ]
     },
     "execution_count": 18,
     "metadata": {},
     "output_type": "execute_result"
    }
   ],
   "source": [
    "df.sample(5)"
   ]
  },
  {
   "cell_type": "code",
   "execution_count": 19,
   "metadata": {},
   "outputs": [],
   "source": [
    "from sklearn.metrics import confusion_matrix"
   ]
  },
  {
   "cell_type": "code",
   "execution_count": 20,
   "metadata": {},
   "outputs": [],
   "source": [
    "cm = confusion_matrix(df.Decision.values, df.prediction.values)"
   ]
  },
  {
   "cell_type": "code",
   "execution_count": 21,
   "metadata": {},
   "outputs": [],
   "source": [
    "tn, fp, fn, tp = cm.ravel()"
   ]
  },
  {
   "cell_type": "code",
   "execution_count": 22,
   "metadata": {},
   "outputs": [
    {
     "data": {
      "text/plain": [
       "(262, 0, 7, 31)"
      ]
     },
     "execution_count": 22,
     "metadata": {},
     "output_type": "execute_result"
    }
   ],
   "source": [
    "tn, fp, fn, tp"
   ]
  },
  {
   "cell_type": "code",
   "execution_count": 23,
   "metadata": {},
   "outputs": [],
   "source": [
    "recall = tp / (tp + fn)\n",
    "precision = tp / (tp + fp)\n",
    "accuracy = (tp + tn)/(tn + fp +  fn + tp)\n",
    "f1 = 2 * (precision * recall) / (precision + recall)"
   ]
  },
  {
   "cell_type": "code",
   "execution_count": 24,
   "metadata": {},
   "outputs": [
    {
     "name": "stdout",
     "output_type": "stream",
     "text": [
      "Precision:  100.0 %\n",
      "Recall:  81.57894736842105 %\n",
      "F1 score  89.85507246376811 %\n",
      "Accuracy:  97.66666666666667 %\n"
     ]
    }
   ],
   "source": [
    "print(\"Precision: \", 100*precision,\"%\")\n",
    "print(\"Recall: \", 100*recall,\"%\")\n",
    "print(\"F1 score \",100*f1, \"%\")\n",
    "print(\"Accuracy: \", 100*accuracy,\"%\")"
   ]
  },
  {
   "cell_type": "code",
   "execution_count": null,
   "metadata": {},
   "outputs": [],
   "source": []
  }
 ],
 "metadata": {
  "kernelspec": {
   "display_name": "Python 3 (ipykernel)",
   "language": "python",
   "name": "python3"
  },
  "language_info": {
   "codemirror_mode": {
    "name": "ipython",
    "version": 3
   },
   "file_extension": ".py",
   "mimetype": "text/x-python",
   "name": "python",
   "nbconvert_exporter": "python",
   "pygments_lexer": "ipython3",
   "version": "3.9.6"
  }
 },
 "nbformat": 4,
 "nbformat_minor": 2
}
