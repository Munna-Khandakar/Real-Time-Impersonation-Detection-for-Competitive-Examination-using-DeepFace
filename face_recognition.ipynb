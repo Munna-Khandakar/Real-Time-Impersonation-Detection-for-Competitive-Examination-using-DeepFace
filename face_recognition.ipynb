{
 "cells": [
  {
   "cell_type": "code",
   "execution_count": 1,
   "metadata": {},
   "outputs": [],
   "source": [
    "from deepface import DeepFace\n",
    "from deepface.commons import functions\n",
    "from deepface.basemodels import VGGFace, OpenFace, Facenet, FbDeepFace\n",
    "import numpy as np"
   ]
  },
  {
   "cell_type": "code",
   "execution_count": 2,
   "metadata": {},
   "outputs": [],
   "source": [
    "#model = VGGFace.loadModel()\n",
    "model = Facenet.loadModel()\n",
    "#model = OpenFace.loadModel()\n",
    "#model = FbDeepFace.loadModel()"
   ]
  },
  {
   "cell_type": "code",
   "execution_count": 3,
   "metadata": {},
   "outputs": [],
   "source": [
    "img1 = 'images/12.jpg'\n",
    "img2 = 'images/21.jpg'\n",
    "#res = DeepFace.verify(img1,img2,model_name= \"Facenet\",distance_metric = \"euclidean\")#euclidean,cosine\n",
    "#res"
   ]
  },
  {
   "cell_type": "code",
   "execution_count": 4,
   "metadata": {},
   "outputs": [],
   "source": [
    "img1 = functions.preprocess_face(img1,target_size=(160, 160))\n",
    "img2 = functions.preprocess_face(img2,target_size=(160, 160))"
   ]
  },
  {
   "cell_type": "code",
   "execution_count": 5,
   "metadata": {},
   "outputs": [
    {
     "data": {
      "text/plain": [
       "array([[[[0.        , 0.        , 0.        ],\n",
       "         [0.3529412 , 0.57254905, 0.7411765 ],\n",
       "         [0.38431373, 0.62352943, 0.8156863 ],\n",
       "         ...,\n",
       "         [0.        , 0.        , 0.        ],\n",
       "         [0.        , 0.        , 0.        ],\n",
       "         [0.        , 0.        , 0.        ]],\n",
       "\n",
       "        [[0.        , 0.        , 0.        ],\n",
       "         [0.34901962, 0.57254905, 0.7411765 ],\n",
       "         [0.39607844, 0.64705884, 0.8352941 ],\n",
       "         ...,\n",
       "         [0.32941177, 0.5411765 , 0.7490196 ],\n",
       "         [0.32941177, 0.53333336, 0.7411765 ],\n",
       "         [0.29803923, 0.5058824 , 0.7019608 ]],\n",
       "\n",
       "        [[0.        , 0.        , 0.        ],\n",
       "         [0.3372549 , 0.5568628 , 0.7254902 ],\n",
       "         [0.35686275, 0.6       , 0.7882353 ],\n",
       "         ...,\n",
       "         [0.34901962, 0.58431375, 0.80784315],\n",
       "         [0.34901962, 0.5764706 , 0.80784315],\n",
       "         [0.34901962, 0.5803922 , 0.8       ]],\n",
       "\n",
       "        ...,\n",
       "\n",
       "        [[0.43137255, 0.6901961 , 0.8784314 ],\n",
       "         [0.43137255, 0.6862745 , 0.8745098 ],\n",
       "         [0.44313726, 0.7019608 , 0.8901961 ],\n",
       "         ...,\n",
       "         [0.43529412, 0.7058824 , 0.8980392 ],\n",
       "         [0.39607844, 0.6431373 , 0.80784315],\n",
       "         [0.        , 0.        , 0.        ]],\n",
       "\n",
       "        [[0.39215687, 0.61960787, 0.7882353 ],\n",
       "         [0.39215687, 0.61960787, 0.7882353 ],\n",
       "         [0.40392157, 0.627451  , 0.79607844],\n",
       "         ...,\n",
       "         [0.43137255, 0.7019608 , 0.89411765],\n",
       "         [0.3882353 , 0.6313726 , 0.8       ],\n",
       "         [0.        , 0.        , 0.        ]],\n",
       "\n",
       "        [[0.        , 0.        , 0.        ],\n",
       "         [0.        , 0.        , 0.        ],\n",
       "         [0.        , 0.        , 0.        ],\n",
       "         ...,\n",
       "         [0.44313726, 0.7137255 , 0.9019608 ],\n",
       "         [0.39607844, 0.63529414, 0.8       ],\n",
       "         [0.        , 0.        , 0.        ]]]], dtype=float32)"
      ]
     },
     "execution_count": 5,
     "metadata": {},
     "output_type": "execute_result"
    }
   ],
   "source": [
    "img1"
   ]
  },
  {
   "cell_type": "code",
   "execution_count": 7,
   "metadata": {},
   "outputs": [],
   "source": [
    "img1_representation = model.predict(img1)[0,:]\n",
    "img2_representation = model.predict(img2)[0,:]"
   ]
  },
  {
   "cell_type": "code",
   "execution_count": 9,
   "metadata": {},
   "outputs": [
    {
     "data": {
      "text/plain": [
       "array([-0.81132877,  0.12823492, -1.1783502 ,  0.13800907, -1.1140108 ,\n",
       "        0.93589556,  0.06128348, -0.39160517,  0.17592588,  0.9778148 ,\n",
       "        0.07356676, -1.9535519 ,  1.1199975 , -1.2925686 ,  0.57727885,\n",
       "        0.39965987,  1.5121077 , -0.07868421, -0.34902605, -1.3062354 ,\n",
       "        1.8694364 ,  1.225344  ,  1.1888189 ,  0.80461305, -0.935066  ,\n",
       "        0.03529967,  0.07261212, -1.4388458 , -0.12181768,  0.8835044 ,\n",
       "       -1.4032267 ,  0.6691358 , -0.25851142,  1.0761082 ,  3.1728292 ,\n",
       "        1.0733517 , -0.8168945 ,  0.2659175 ,  1.3459661 , -2.3726404 ,\n",
       "        0.4943086 ,  1.2965373 , -0.6845536 , -0.29713452,  0.29386783,\n",
       "        0.6130704 ,  1.643696  , -2.3377063 ,  0.05528545,  0.43901357,\n",
       "        0.3223335 ,  0.21697833, -0.811385  , -1.9807882 ,  0.3102115 ,\n",
       "        1.0737445 , -0.2376437 , -1.381762  , -0.5040206 , -2.774615  ,\n",
       "       -0.20209384, -0.28720975, -0.02252465, -0.7304154 ,  0.65319616,\n",
       "       -0.48715818,  0.31023034,  0.19885075, -0.5654854 ,  0.00696036,\n",
       "        1.5939146 ,  1.1108412 , -0.27888653, -2.63656   ,  1.739319  ,\n",
       "       -0.24994236, -1.8884679 , -0.6870195 , -1.5425982 , -1.1882287 ,\n",
       "        0.755477  ,  0.4252861 , -0.5502477 ,  1.5795233 ,  0.996438  ,\n",
       "        1.1667621 ,  0.2762102 , -0.12302513, -2.4288538 , -1.3831283 ,\n",
       "        1.0328355 ,  2.3007054 , -0.3383867 ,  2.5769923 ,  0.23029576,\n",
       "        0.99808073,  1.097311  ,  0.25698677, -1.1256924 ,  0.07291412,\n",
       "       -0.21736254,  0.44386202, -1.2666074 , -0.7926609 , -0.6573435 ,\n",
       "       -0.30293685, -0.9711957 ,  0.9232496 , -0.182887  ,  0.86521244,\n",
       "       -0.72617745, -0.2343177 ,  0.6256175 ,  1.4786208 , -1.1930913 ,\n",
       "       -0.13032785,  0.36721542, -1.74616   , -1.3898753 ,  0.6658445 ,\n",
       "        0.11068067, -0.22525671,  1.5436556 , -1.2004297 , -0.41841877,\n",
       "       -1.1240965 ,  0.0986113 , -1.5561081 ], dtype=float32)"
      ]
     },
     "execution_count": 9,
     "metadata": {},
     "output_type": "execute_result"
    }
   ],
   "source": [
    "img1_representation"
   ]
  },
  {
   "cell_type": "code",
   "execution_count": 12,
   "metadata": {},
   "outputs": [],
   "source": [
    "distance_vector = np.square(img1_representation - img2_representation)\n",
    "distance = np.sqrt(distance_vector.sum())"
   ]
  },
  {
   "cell_type": "code",
   "execution_count": 13,
   "metadata": {},
   "outputs": [
    {
     "data": {
      "text/plain": [
       "15.704855"
      ]
     },
     "execution_count": 13,
     "metadata": {},
     "output_type": "execute_result"
    }
   ],
   "source": [
    "distance"
   ]
  },
  {
   "cell_type": "code",
   "execution_count": null,
   "metadata": {},
   "outputs": [],
   "source": []
  }
 ],
 "metadata": {
  "kernelspec": {
   "display_name": "Python 3 (ipykernel)",
   "language": "python",
   "name": "python3"
  },
  "language_info": {
   "codemirror_mode": {
    "name": "ipython",
    "version": 3
   },
   "file_extension": ".py",
   "mimetype": "text/x-python",
   "name": "python",
   "nbconvert_exporter": "python",
   "pygments_lexer": "ipython3",
   "version": "3.9.6"
  }
 },
 "nbformat": 4,
 "nbformat_minor": 2
}
