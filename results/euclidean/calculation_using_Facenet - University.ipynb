{
 "cells": [
  {
   "cell_type": "code",
   "execution_count": 1,
   "id": "7eb3ff48",
   "metadata": {},
   "outputs": [],
   "source": [
    "import pandas as pd\n",
    "from deepface import DeepFace"
   ]
  },
  {
   "cell_type": "code",
   "execution_count": 2,
   "id": "ec683882",
   "metadata": {},
   "outputs": [
    {
     "data": {
      "text/html": [
       "<div>\n",
       "<style scoped>\n",
       "    .dataframe tbody tr th:only-of-type {\n",
       "        vertical-align: middle;\n",
       "    }\n",
       "\n",
       "    .dataframe tbody tr th {\n",
       "        vertical-align: top;\n",
       "    }\n",
       "\n",
       "    .dataframe thead th {\n",
       "        text-align: right;\n",
       "    }\n",
       "</style>\n",
       "<table border=\"1\" class=\"dataframe\">\n",
       "  <thead>\n",
       "    <tr style=\"text-align: right;\">\n",
       "      <th></th>\n",
       "      <th>file_x</th>\n",
       "      <th>file_y</th>\n",
       "      <th>Decision</th>\n",
       "    </tr>\n",
       "  </thead>\n",
       "  <tbody>\n",
       "    <tr>\n",
       "      <th>0</th>\n",
       "      <td>1.jpg</td>\n",
       "      <td>2.jpg</td>\n",
       "      <td>No</td>\n",
       "    </tr>\n",
       "    <tr>\n",
       "      <th>1</th>\n",
       "      <td>1.jpg</td>\n",
       "      <td>3.jpg</td>\n",
       "      <td>No</td>\n",
       "    </tr>\n",
       "    <tr>\n",
       "      <th>2</th>\n",
       "      <td>1.jpg</td>\n",
       "      <td>32.jpg</td>\n",
       "      <td>Yes</td>\n",
       "    </tr>\n",
       "    <tr>\n",
       "      <th>3</th>\n",
       "      <td>2.jpg</td>\n",
       "      <td>3.jpg</td>\n",
       "      <td>No</td>\n",
       "    </tr>\n",
       "    <tr>\n",
       "      <th>4</th>\n",
       "      <td>2.jpg</td>\n",
       "      <td>33.jpg</td>\n",
       "      <td>Yes</td>\n",
       "    </tr>\n",
       "  </tbody>\n",
       "</table>\n",
       "</div>"
      ],
      "text/plain": [
       "  file_x  file_y Decision\n",
       "0  1.jpg   2.jpg       No\n",
       "1  1.jpg   3.jpg       No\n",
       "2  1.jpg  32.jpg      Yes\n",
       "3  2.jpg   3.jpg       No\n",
       "4  2.jpg  33.jpg      Yes"
      ]
     },
     "execution_count": 2,
     "metadata": {},
     "output_type": "execute_result"
    }
   ],
   "source": [
    "df = pd.read_csv('../../dataset/Labeled Faces in the University Students Dataset/master.csv')\n",
    "df.head()"
   ]
  },
  {
   "cell_type": "code",
   "execution_count": 3,
   "id": "a06e02a3",
   "metadata": {},
   "outputs": [],
   "source": [
    "df['file_x'] = '../../dataset/Labeled Faces in the University Students Dataset/' + df['file_x'].astype(str)\n",
    "df['file_y'] = '../../dataset/Labeled Faces in the University Students Dataset/' + df['file_y'].astype(str)"
   ]
  },
  {
   "cell_type": "code",
   "execution_count": 4,
   "id": "72d5e386",
   "metadata": {},
   "outputs": [
    {
     "data": {
      "text/plain": [
       "[['../../dataset/Labeled Faces in the University Students Dataset/1.jpg',\n",
       "  '../../dataset/Labeled Faces in the University Students Dataset/2.jpg'],\n",
       " ['../../dataset/Labeled Faces in the University Students Dataset/1.jpg',\n",
       "  '../../dataset/Labeled Faces in the University Students Dataset/3.jpg'],\n",
       " ['../../dataset/Labeled Faces in the University Students Dataset/1.jpg',\n",
       "  '../../dataset/Labeled Faces in the University Students Dataset/32.jpg'],\n",
       " ['../../dataset/Labeled Faces in the University Students Dataset/2.jpg',\n",
       "  '../../dataset/Labeled Faces in the University Students Dataset/3.jpg'],\n",
       " ['../../dataset/Labeled Faces in the University Students Dataset/2.jpg',\n",
       "  '../../dataset/Labeled Faces in the University Students Dataset/33.jpg'],\n",
       " ['../../dataset/Labeled Faces in the University Students Dataset/2.jpg',\n",
       "  '../../dataset/Labeled Faces in the University Students Dataset/5.jpg'],\n",
       " ['../../dataset/Labeled Faces in the University Students Dataset/3.jpg',\n",
       "  '../../dataset/Labeled Faces in the University Students Dataset/35.jpg'],\n",
       " ['../../dataset/Labeled Faces in the University Students Dataset/3.jpg',\n",
       "  '../../dataset/Labeled Faces in the University Students Dataset/5.jpg'],\n",
       " ['../../dataset/Labeled Faces in the University Students Dataset/3.jpg',\n",
       "  '../../dataset/Labeled Faces in the University Students Dataset/34.jpg'],\n",
       " ['../../dataset/Labeled Faces in the University Students Dataset/8.jpg',\n",
       "  '../../dataset/Labeled Faces in the University Students Dataset/5.jpg'],\n",
       " ['../../dataset/Labeled Faces in the University Students Dataset/8.jpg',\n",
       "  '../../dataset/Labeled Faces in the University Students Dataset/11.jpg'],\n",
       " ['../../dataset/Labeled Faces in the University Students Dataset/8.jpg',\n",
       "  '../../dataset/Labeled Faces in the University Students Dataset/17.jpg'],\n",
       " ['../../dataset/Labeled Faces in the University Students Dataset/31.jpg',\n",
       "  '../../dataset/Labeled Faces in the University Students Dataset/44.jpg'],\n",
       " ['../../dataset/Labeled Faces in the University Students Dataset/26.jpg',\n",
       "  '../../dataset/Labeled Faces in the University Students Dataset/28.jpg'],\n",
       " ['../../dataset/Labeled Faces in the University Students Dataset/24.jpg',\n",
       "  '../../dataset/Labeled Faces in the University Students Dataset/41.jpg'],\n",
       " ['../../dataset/Labeled Faces in the University Students Dataset/43.jpg',\n",
       "  '../../dataset/Labeled Faces in the University Students Dataset/42.jpg'],\n",
       " ['../../dataset/Labeled Faces in the University Students Dataset/40.jpg',\n",
       "  '../../dataset/Labeled Faces in the University Students Dataset/35.jpg'],\n",
       " ['../../dataset/Labeled Faces in the University Students Dataset/33.jpg',\n",
       "  '../../dataset/Labeled Faces in the University Students Dataset/2.jpg'],\n",
       " ['../../dataset/Labeled Faces in the University Students Dataset/20.jpg',\n",
       "  '../../dataset/Labeled Faces in the University Students Dataset/36.jpg'],\n",
       " ['../../dataset/Labeled Faces in the University Students Dataset/36.jpg',\n",
       "  '../../dataset/Labeled Faces in the University Students Dataset/17.jpg'],\n",
       " ['../../dataset/Labeled Faces in the University Students Dataset/39.jpg',\n",
       "  '../../dataset/Labeled Faces in the University Students Dataset/8.jpg'],\n",
       " ['../../dataset/Labeled Faces in the University Students Dataset/26.jpg',\n",
       "  '../../dataset/Labeled Faces in the University Students Dataset/28.jpg'],\n",
       " ['../../dataset/Labeled Faces in the University Students Dataset/2.jpg',\n",
       "  '../../dataset/Labeled Faces in the University Students Dataset/37.jpg'],\n",
       " ['../../dataset/Labeled Faces in the University Students Dataset/44.jpg',\n",
       "  '../../dataset/Labeled Faces in the University Students Dataset/14.jpg'],\n",
       " ['../../dataset/Labeled Faces in the University Students Dataset/35.jpg',\n",
       "  '../../dataset/Labeled Faces in the University Students Dataset/32.jpg'],\n",
       " ['../../dataset/Labeled Faces in the University Students Dataset/40.jpg',\n",
       "  '../../dataset/Labeled Faces in the University Students Dataset/39.jpg'],\n",
       " ['../../dataset/Labeled Faces in the University Students Dataset/14.jpg',\n",
       "  '../../dataset/Labeled Faces in the University Students Dataset/17.jpg'],\n",
       " ['../../dataset/Labeled Faces in the University Students Dataset/36.jpg',\n",
       "  '../../dataset/Labeled Faces in the University Students Dataset/5.jpg'],\n",
       " ['../../dataset/Labeled Faces in the University Students Dataset/24.jpg',\n",
       "  '../../dataset/Labeled Faces in the University Students Dataset/41.jpg'],\n",
       " ['../../dataset/Labeled Faces in the University Students Dataset/3.jpg',\n",
       "  '../../dataset/Labeled Faces in the University Students Dataset/34.jpg'],\n",
       " ['../../dataset/Labeled Faces in the University Students Dataset/37.jpg',\n",
       "  '../../dataset/Labeled Faces in the University Students Dataset/14.jpg'],\n",
       " ['../../dataset/Labeled Faces in the University Students Dataset/44.jpg',\n",
       "  '../../dataset/Labeled Faces in the University Students Dataset/36.jpg'],\n",
       " ['../../dataset/Labeled Faces in the University Students Dataset/3.jpg',\n",
       "  '../../dataset/Labeled Faces in the University Students Dataset/5.jpg'],\n",
       " ['../../dataset/Labeled Faces in the University Students Dataset/32.jpg',\n",
       "  '../../dataset/Labeled Faces in the University Students Dataset/36.jpg'],\n",
       " ['../../dataset/Labeled Faces in the University Students Dataset/38.jpg',\n",
       "  '../../dataset/Labeled Faces in the University Students Dataset/33.jpg'],\n",
       " ['../../dataset/Labeled Faces in the University Students Dataset/28.jpg',\n",
       "  '../../dataset/Labeled Faces in the University Students Dataset/26.jpg'],\n",
       " ['../../dataset/Labeled Faces in the University Students Dataset/40.jpg',\n",
       "  '../../dataset/Labeled Faces in the University Students Dataset/17.jpg'],\n",
       " ['../../dataset/Labeled Faces in the University Students Dataset/35.jpg',\n",
       "  '../../dataset/Labeled Faces in the University Students Dataset/5.jpg'],\n",
       " ['../../dataset/Labeled Faces in the University Students Dataset/32.jpg',\n",
       "  '../../dataset/Labeled Faces in the University Students Dataset/1.jpg'],\n",
       " ['../../dataset/Labeled Faces in the University Students Dataset/2.jpg',\n",
       "  '../../dataset/Labeled Faces in the University Students Dataset/33.jpg'],\n",
       " ['../../dataset/Labeled Faces in the University Students Dataset/5.jpg',\n",
       "  '../../dataset/Labeled Faces in the University Students Dataset/35.jpg'],\n",
       " ['../../dataset/Labeled Faces in the University Students Dataset/8.jpg',\n",
       "  '../../dataset/Labeled Faces in the University Students Dataset/39.jpg'],\n",
       " ['../../dataset/Labeled Faces in the University Students Dataset/44.jpg',\n",
       "  '../../dataset/Labeled Faces in the University Students Dataset/40.jpg'],\n",
       " ['../../dataset/Labeled Faces in the University Students Dataset/38.jpg',\n",
       "  '../../dataset/Labeled Faces in the University Students Dataset/31.jpg']]"
      ]
     },
     "execution_count": 4,
     "metadata": {},
     "output_type": "execute_result"
    }
   ],
   "source": [
    "instances = df[[\"file_x\", \"file_y\"]].values.tolist()\n",
    "instances"
   ]
  },
  {
   "cell_type": "code",
   "execution_count": 5,
   "id": "dcf01591",
   "metadata": {},
   "outputs": [],
   "source": [
    "model_name = \"Facenet\"\n",
    "distance_metric = \"euclidean\""
   ]
  },
  {
   "cell_type": "code",
   "execution_count": 6,
   "id": "68a5bebb",
   "metadata": {},
   "outputs": [
    {
     "name": "stderr",
     "output_type": "stream",
     "text": [
      "Verification: 100%|██████████| 44/44 [23:05<00:00, 31.49s/it]\n"
     ]
    }
   ],
   "source": [
    "resp_obj = DeepFace.verify(instances, model_name = model_name, distance_metric = distance_metric)"
   ]
  },
  {
   "cell_type": "code",
   "execution_count": 7,
   "id": "60724e57",
   "metadata": {},
   "outputs": [],
   "source": [
    "distances = []\n",
    "for i in range(0, len(instances)):\n",
    "    distance = round(resp_obj[\"pair_%s\" % (i+1)][\"distance\"], 4)\n",
    "    distances.append(distance)"
   ]
  },
  {
   "cell_type": "code",
   "execution_count": 8,
   "id": "3d9664ee",
   "metadata": {},
   "outputs": [
    {
     "data": {
      "text/html": [
       "<div>\n",
       "<style scoped>\n",
       "    .dataframe tbody tr th:only-of-type {\n",
       "        vertical-align: middle;\n",
       "    }\n",
       "\n",
       "    .dataframe tbody tr th {\n",
       "        vertical-align: top;\n",
       "    }\n",
       "\n",
       "    .dataframe thead th {\n",
       "        text-align: right;\n",
       "    }\n",
       "</style>\n",
       "<table border=\"1\" class=\"dataframe\">\n",
       "  <thead>\n",
       "    <tr style=\"text-align: right;\">\n",
       "      <th></th>\n",
       "      <th>file_x</th>\n",
       "      <th>file_y</th>\n",
       "      <th>Decision</th>\n",
       "      <th>distance</th>\n",
       "    </tr>\n",
       "  </thead>\n",
       "  <tbody>\n",
       "    <tr>\n",
       "      <th>0</th>\n",
       "      <td>../../dataset/Labeled Faces in the University ...</td>\n",
       "      <td>../../dataset/Labeled Faces in the University ...</td>\n",
       "      <td>No</td>\n",
       "      <td>12.2522</td>\n",
       "    </tr>\n",
       "    <tr>\n",
       "      <th>1</th>\n",
       "      <td>../../dataset/Labeled Faces in the University ...</td>\n",
       "      <td>../../dataset/Labeled Faces in the University ...</td>\n",
       "      <td>No</td>\n",
       "      <td>13.9645</td>\n",
       "    </tr>\n",
       "    <tr>\n",
       "      <th>2</th>\n",
       "      <td>../../dataset/Labeled Faces in the University ...</td>\n",
       "      <td>../../dataset/Labeled Faces in the University ...</td>\n",
       "      <td>Yes</td>\n",
       "      <td>0.0000</td>\n",
       "    </tr>\n",
       "    <tr>\n",
       "      <th>3</th>\n",
       "      <td>../../dataset/Labeled Faces in the University ...</td>\n",
       "      <td>../../dataset/Labeled Faces in the University ...</td>\n",
       "      <td>No</td>\n",
       "      <td>11.2227</td>\n",
       "    </tr>\n",
       "    <tr>\n",
       "      <th>4</th>\n",
       "      <td>../../dataset/Labeled Faces in the University ...</td>\n",
       "      <td>../../dataset/Labeled Faces in the University ...</td>\n",
       "      <td>Yes</td>\n",
       "      <td>0.0000</td>\n",
       "    </tr>\n",
       "  </tbody>\n",
       "</table>\n",
       "</div>"
      ],
      "text/plain": [
       "                                              file_x  \\\n",
       "0  ../../dataset/Labeled Faces in the University ...   \n",
       "1  ../../dataset/Labeled Faces in the University ...   \n",
       "2  ../../dataset/Labeled Faces in the University ...   \n",
       "3  ../../dataset/Labeled Faces in the University ...   \n",
       "4  ../../dataset/Labeled Faces in the University ...   \n",
       "\n",
       "                                              file_y Decision  distance  \n",
       "0  ../../dataset/Labeled Faces in the University ...       No   12.2522  \n",
       "1  ../../dataset/Labeled Faces in the University ...       No   13.9645  \n",
       "2  ../../dataset/Labeled Faces in the University ...      Yes    0.0000  \n",
       "3  ../../dataset/Labeled Faces in the University ...       No   11.2227  \n",
       "4  ../../dataset/Labeled Faces in the University ...      Yes    0.0000  "
      ]
     },
     "execution_count": 8,
     "metadata": {},
     "output_type": "execute_result"
    }
   ],
   "source": [
    "df[\"distance\"] = distances\n",
    "df.head()"
   ]
  },
  {
   "cell_type": "code",
   "execution_count": 9,
   "id": "b19bb4e1",
   "metadata": {},
   "outputs": [
    {
     "data": {
      "text/plain": [
       "<AxesSubplot:ylabel='Density'>"
      ]
     },
     "execution_count": 9,
     "metadata": {},
     "output_type": "execute_result"
    },
    {
     "data": {
      "image/png": "[encoded data removed]",
      "text/plain": [
       "<Figure size 432x288 with 1 Axes>"
      ]
     },
     "metadata": {
      "needs_background": "light"
     },
     "output_type": "display_data"
    }
   ],
   "source": [
    "df[df.Decision == \"Yes\"].distance.plot.kde()\n",
    "df[df.Decision == \"No\"].distance.plot.kde()"
   ]
  },
  {
   "cell_type": "code",
   "execution_count": 10,
   "id": "fd32eba8",
   "metadata": {},
   "outputs": [],
   "source": [
    "from chefboost import Chefboost as chef"
   ]
  },
  {
   "cell_type": "code",
   "execution_count": 11,
   "id": "180a59e8",
   "metadata": {},
   "outputs": [],
   "source": [
    "config = {'algorithm': 'C4.5'}"
   ]
  },
  {
   "cell_type": "code",
   "execution_count": 12,
   "id": "9efe1ef3",
   "metadata": {},
   "outputs": [
    {
     "name": "stdout",
     "output_type": "stream",
     "text": [
      "[INFO]:  2 CPU cores will be allocated in parallel running\n",
      "C4.5  tree is going to be built...\n",
      "-------------------------\n",
      "finished in  0.49708032608032227  seconds\n",
      "-------------------------\n",
      "Evaluate  train set\n",
      "-------------------------\n",
      "Accuracy:  88.63636363636364 % on  44  instances\n",
      "Labels:  ['No' 'Yes']\n",
      "Confusion matrix:  [[20, 2], [3, 19]]\n",
      "Precision:  90.9091 %, Recall:  86.9565 %, F1:  88.8889 %\n"
     ]
    }
   ],
   "source": [
    "tmp_df = df[['distance', 'Decision']].rename(columns = {\"decision\": \"Decision\"}).copy()\n",
    "model = chef.fit(tmp_df, config)"
   ]
  },
  {
   "cell_type": "code",
   "execution_count": 28,
   "id": "87ce4e00",
   "metadata": {},
   "outputs": [],
   "source": [
    "threshold = 7.0838 #comes from c4.5 algorithm"
   ]
  },
  {
   "cell_type": "code",
   "execution_count": 29,
   "id": "5807352a",
   "metadata": {},
   "outputs": [],
   "source": [
    "df[\"prediction\"] = \"No\""
   ]
  },
  {
   "cell_type": "code",
   "execution_count": 30,
   "id": "9e72b845",
   "metadata": {},
   "outputs": [],
   "source": [
    "idx = df[df.distance <= threshold].index\n",
    "df.loc[idx, 'prediction'] = 'Yes'"
   ]
  },
  {
   "cell_type": "code",
   "execution_count": 31,
   "id": "887fa8f6",
   "metadata": {},
   "outputs": [
    {
     "data": {
      "text/html": [
       "<div>\n",
       "<style scoped>\n",
       "    .dataframe tbody tr th:only-of-type {\n",
       "        vertical-align: middle;\n",
       "    }\n",
       "\n",
       "    .dataframe tbody tr th {\n",
       "        vertical-align: top;\n",
       "    }\n",
       "\n",
       "    .dataframe thead th {\n",
       "        text-align: right;\n",
       "    }\n",
       "</style>\n",
       "<table border=\"1\" class=\"dataframe\">\n",
       "  <thead>\n",
       "    <tr style=\"text-align: right;\">\n",
       "      <th></th>\n",
       "      <th>file_x</th>\n",
       "      <th>file_y</th>\n",
       "      <th>Decision</th>\n",
       "      <th>distance</th>\n",
       "      <th>prediction</th>\n",
       "      <th>p</th>\n",
       "    </tr>\n",
       "  </thead>\n",
       "  <tbody>\n",
       "    <tr>\n",
       "      <th>33</th>\n",
       "      <td>../../dataset/Labeled Faces in the University ...</td>\n",
       "      <td>../../dataset/Labeled Faces in the University ...</td>\n",
       "      <td>No</td>\n",
       "      <td>12.3138</td>\n",
       "      <td>No</td>\n",
       "      <td>No</td>\n",
       "    </tr>\n",
       "    <tr>\n",
       "      <th>15</th>\n",
       "      <td>../../dataset/Labeled Faces in the University ...</td>\n",
       "      <td>../../dataset/Labeled Faces in the University ...</td>\n",
       "      <td>Yes</td>\n",
       "      <td>1.8522</td>\n",
       "      <td>Yes</td>\n",
       "      <td>No</td>\n",
       "    </tr>\n",
       "    <tr>\n",
       "      <th>26</th>\n",
       "      <td>../../dataset/Labeled Faces in the University ...</td>\n",
       "      <td>../../dataset/Labeled Faces in the University ...</td>\n",
       "      <td>No</td>\n",
       "      <td>3.5812</td>\n",
       "      <td>Yes</td>\n",
       "      <td>No</td>\n",
       "    </tr>\n",
       "    <tr>\n",
       "      <th>23</th>\n",
       "      <td>../../dataset/Labeled Faces in the University ...</td>\n",
       "      <td>../../dataset/Labeled Faces in the University ...</td>\n",
       "      <td>No</td>\n",
       "      <td>12.0188</td>\n",
       "      <td>No</td>\n",
       "      <td>No</td>\n",
       "    </tr>\n",
       "    <tr>\n",
       "      <th>0</th>\n",
       "      <td>../../dataset/Labeled Faces in the University ...</td>\n",
       "      <td>../../dataset/Labeled Faces in the University ...</td>\n",
       "      <td>No</td>\n",
       "      <td>12.2522</td>\n",
       "      <td>No</td>\n",
       "      <td>No</td>\n",
       "    </tr>\n",
       "  </tbody>\n",
       "</table>\n",
       "</div>"
      ],
      "text/plain": [
       "                                               file_x  \\\n",
       "33  ../../dataset/Labeled Faces in the University ...   \n",
       "15  ../../dataset/Labeled Faces in the University ...   \n",
       "26  ../../dataset/Labeled Faces in the University ...   \n",
       "23  ../../dataset/Labeled Faces in the University ...   \n",
       "0   ../../dataset/Labeled Faces in the University ...   \n",
       "\n",
       "                                               file_y Decision  distance  \\\n",
       "33  ../../dataset/Labeled Faces in the University ...       No   12.3138   \n",
       "15  ../../dataset/Labeled Faces in the University ...      Yes    1.8522   \n",
       "26  ../../dataset/Labeled Faces in the University ...       No    3.5812   \n",
       "23  ../../dataset/Labeled Faces in the University ...       No   12.0188   \n",
       "0   ../../dataset/Labeled Faces in the University ...       No   12.2522   \n",
       "\n",
       "   prediction   p  \n",
       "33         No  No  \n",
       "15        Yes  No  \n",
       "26        Yes  No  \n",
       "23         No  No  \n",
       "0          No  No  "
      ]
     },
     "execution_count": 31,
     "metadata": {},
     "output_type": "execute_result"
    }
   ],
   "source": [
    "df.sample(5)"
   ]
  },
  {
   "cell_type": "code",
   "execution_count": 32,
   "id": "5e3448f6",
   "metadata": {},
   "outputs": [],
   "source": [
    "from sklearn.metrics import confusion_matrix,roc_curve,auc"
   ]
  },
  {
   "cell_type": "code",
   "execution_count": 33,
   "id": "1c47ed06",
   "metadata": {},
   "outputs": [],
   "source": [
    "cm = confusion_matrix(df.Decision.values, df.prediction.values)"
   ]
  },
  {
   "cell_type": "code",
   "execution_count": 34,
   "id": "707f17b4",
   "metadata": {},
   "outputs": [],
   "source": [
    "tn, fp, fn, tp = cm.ravel()"
   ]
  },
  {
   "cell_type": "code",
   "execution_count": 35,
   "id": "2d5a2d47",
   "metadata": {},
   "outputs": [
    {
     "data": {
      "text/plain": [
       "(20, 3, 2, 19)"
      ]
     },
     "execution_count": 35,
     "metadata": {},
     "output_type": "execute_result"
    }
   ],
   "source": [
    "tn, fp, fn, tp"
   ]
  },
  {
   "cell_type": "code",
   "execution_count": 36,
   "id": "dcf0167e",
   "metadata": {},
   "outputs": [],
   "source": [
    "recall = tp / (tp + fn)\n",
    "precision = tp / (tp + fp)\n",
    "accuracy = (tp + tn)/(tn + fp +  fn + tp)\n",
    "f1 = 2 * (precision * recall) / (precision + recall)"
   ]
  },
  {
   "cell_type": "code",
   "execution_count": 37,
   "id": "aafbdd7a",
   "metadata": {},
   "outputs": [
    {
     "name": "stdout",
     "output_type": "stream",
     "text": [
      "Precision:  86.36363636363636 %\n",
      "Recall:  90.47619047619048 %\n",
      "F1 score  88.37209302325581 %\n",
      "Accuracy:  88.63636363636364 %\n"
     ]
    }
   ],
   "source": [
    "print(\"Precision: \", 100*precision,\"%\")\n",
    "print(\"Recall: \", 100*recall,\"%\")\n",
    "print(\"F1 score \",100*f1, \"%\")\n",
    "print(\"Accuracy: \", 100*accuracy,\"%\")"
   ]
  },
  {
   "cell_type": "code",
   "execution_count": 41,
   "id": "c6b6c024",
   "metadata": {},
   "outputs": [],
   "source": [
    "import numpy as np\n",
    "import matplotlib.pyplot as plt"
   ]
  },
  {
   "cell_type": "code",
   "execution_count": 42,
   "id": "148e58f4",
   "metadata": {},
   "outputs": [],
   "source": [
    "df[\"p\"] = \"No\"\n",
    "roc_point=[]"
   ]
  },
  {
   "cell_type": "code",
   "execution_count": 43,
   "id": "67f4f387",
   "metadata": {},
   "outputs": [
    {
     "data": {
      "text/plain": [
       "[[0.7142857142857143, 0.9375],\n",
       " [0.9047619047619048, 0.95],\n",
       " [0.9047619047619048, 0.9047619047619048],\n",
       " [0.9047619047619048, 0.8636363636363636],\n",
       " [0.9047619047619048, 0.8636363636363636],\n",
       " [0.9047619047619048, 0.8636363636363636],\n",
       " [0.9047619047619048, 0.8636363636363636],\n",
       " [0.9047619047619048, 0.8636363636363636],\n",
       " [0.9047619047619048, 0.8636363636363636],\n",
       " [0.9047619047619048, 0.8636363636363636],\n",
       " [0.9047619047619048, 0.8636363636363636],\n",
       " [0.9047619047619048, 0.7916666666666666],\n",
       " [0.9523809523809523, 0.6451612903225806],\n",
       " [0.9523809523809523, 0.5405405405405406],\n",
       " [1.0, 0.525],\n",
       " [1.0, 0.5],\n",
       " [1.0, 0.4883720930232558],\n",
       " [1.0, 0.4772727272727273],\n",
       " [1.0, 0.4772727272727273],\n",
       " [1.0, 0.4772727272727273],\n",
       " [1.0, 0.4772727272727273],\n",
       " [1.0, 0.4772727272727273],\n",
       " [1.0, 0.4772727272727273],\n",
       " [1.0, 0.4772727272727273],\n",
       " [1.0, 0.4772727272727273],\n",
       " [1.0, 0.4772727272727273],\n",
       " [1.0, 0.4772727272727273],\n",
       " [1.0, 0.4772727272727273],\n",
       " [1.0, 0.4772727272727273],\n",
       " [1.0, 0.4772727272727273],\n",
       " [1.0, 0.4772727272727273],\n",
       " [1.0, 0.4772727272727273],\n",
       " [1.0, 0.4772727272727273],\n",
       " [1.0, 0.4772727272727273],\n",
       " [1.0, 0.4772727272727273],\n",
       " [1.0, 0.4772727272727273],\n",
       " [1.0, 0.4772727272727273],\n",
       " [1.0, 0.4772727272727273],\n",
       " [1.0, 0.4772727272727273],\n",
       " [1.0, 0.4772727272727273],\n",
       " [1.0, 0.4772727272727273],\n",
       " [1.0, 0.4772727272727273],\n",
       " [1.0, 0.4772727272727273],\n",
       " [1.0, 0.4772727272727273],\n",
       " [1.0, 0.4772727272727273],\n",
       " [1.0, 0.4772727272727273],\n",
       " [1.0, 0.4772727272727273],\n",
       " [1.0, 0.4772727272727273],\n",
       " [1.0, 0.4772727272727273],\n",
       " [1.0, 0.4772727272727273],\n",
       " [1.0, 0.4772727272727273],\n",
       " [1.0, 0.4772727272727273],\n",
       " [1.0, 0.4772727272727273],\n",
       " [1.0, 0.4772727272727273],\n",
       " [1.0, 0.4772727272727273],\n",
       " [1.0, 0.4772727272727273],\n",
       " [1.0, 0.4772727272727273],\n",
       " [1.0, 0.4772727272727273],\n",
       " [1.0, 0.4772727272727273],\n",
       " [1.0, 0.4772727272727273],\n",
       " [1.0, 0.4772727272727273],\n",
       " [1.0, 0.4772727272727273],\n",
       " [1.0, 0.4772727272727273],\n",
       " [1.0, 0.4772727272727273],\n",
       " [1.0, 0.4772727272727273],\n",
       " [1.0, 0.4772727272727273],\n",
       " [1.0, 0.4772727272727273],\n",
       " [1.0, 0.4772727272727273],\n",
       " [1.0, 0.4772727272727273],\n",
       " [1.0, 0.4772727272727273],\n",
       " [1.0, 0.4772727272727273],\n",
       " [1.0, 0.4772727272727273],\n",
       " [1.0, 0.4772727272727273],\n",
       " [1.0, 0.4772727272727273],\n",
       " [1.0, 0.4772727272727273],\n",
       " [1.0, 0.4772727272727273],\n",
       " [1.0, 0.4772727272727273],\n",
       " [1.0, 0.4772727272727273],\n",
       " [1.0, 0.4772727272727273],\n",
       " [1.0, 0.4772727272727273],\n",
       " [1.0, 0.4772727272727273],\n",
       " [1.0, 0.4772727272727273],\n",
       " [1.0, 0.4772727272727273],\n",
       " [1.0, 0.4772727272727273],\n",
       " [1.0, 0.4772727272727273],\n",
       " [1.0, 0.4772727272727273],\n",
       " [1.0, 0.4772727272727273],\n",
       " [1.0, 0.4772727272727273],\n",
       " [1.0, 0.4772727272727273],\n",
       " [1.0, 0.4772727272727273],\n",
       " [1.0, 0.4772727272727273],\n",
       " [1.0, 0.4772727272727273],\n",
       " [1.0, 0.4772727272727273],\n",
       " [1.0, 0.4772727272727273],\n",
       " [1.0, 0.4772727272727273],\n",
       " [1.0, 0.4772727272727273],\n",
       " [1.0, 0.4772727272727273],\n",
       " [1.0, 0.4772727272727273],\n",
       " [1.0, 0.4772727272727273]]"
      ]
     },
     "execution_count": 43,
     "metadata": {},
     "output_type": "execute_result"
    }
   ],
   "source": [
    "thresholds = list(np.array(list(range(1,100,1)))/1)\n",
    "for threshold in thresholds:\n",
    "    idx = df[df.distance <= threshold].index\n",
    "    df.loc[idx, 'p'] = 'Yes'\n",
    "    cm = confusion_matrix(df.Decision.values, df.p.values)\n",
    "    tn, fp, fn, tp = cm.ravel()\n",
    "    tpr = tp / (tp + fn)\n",
    "    fpr = tp / (tp + fp)\n",
    "    roc_point.append([tpr,fpr])\n",
    "roc_point"
   ]
  },
  {
   "cell_type": "code",
   "execution_count": 44,
   "id": "f572a890",
   "metadata": {},
   "outputs": [
    {
     "data": {
      "text/html": [
       "<div>\n",
       "<style scoped>\n",
       "    .dataframe tbody tr th:only-of-type {\n",
       "        vertical-align: middle;\n",
       "    }\n",
       "\n",
       "    .dataframe tbody tr th {\n",
       "        vertical-align: top;\n",
       "    }\n",
       "\n",
       "    .dataframe thead th {\n",
       "        text-align: right;\n",
       "    }\n",
       "</style>\n",
       "<table border=\"1\" class=\"dataframe\">\n",
       "  <thead>\n",
       "    <tr style=\"text-align: right;\">\n",
       "      <th></th>\n",
       "      <th>tpr</th>\n",
       "      <th>fpr</th>\n",
       "      <th>threshold</th>\n",
       "    </tr>\n",
       "  </thead>\n",
       "  <tbody>\n",
       "    <tr>\n",
       "      <th>0</th>\n",
       "      <td>0.714286</td>\n",
       "      <td>0.937500</td>\n",
       "      <td>1.0</td>\n",
       "    </tr>\n",
       "    <tr>\n",
       "      <th>1</th>\n",
       "      <td>0.904762</td>\n",
       "      <td>0.950000</td>\n",
       "      <td>2.0</td>\n",
       "    </tr>\n",
       "    <tr>\n",
       "      <th>2</th>\n",
       "      <td>0.904762</td>\n",
       "      <td>0.904762</td>\n",
       "      <td>3.0</td>\n",
       "    </tr>\n",
       "    <tr>\n",
       "      <th>3</th>\n",
       "      <td>0.904762</td>\n",
       "      <td>0.863636</td>\n",
       "      <td>4.0</td>\n",
       "    </tr>\n",
       "    <tr>\n",
       "      <th>4</th>\n",
       "      <td>0.904762</td>\n",
       "      <td>0.863636</td>\n",
       "      <td>5.0</td>\n",
       "    </tr>\n",
       "    <tr>\n",
       "      <th>...</th>\n",
       "      <td>...</td>\n",
       "      <td>...</td>\n",
       "      <td>...</td>\n",
       "    </tr>\n",
       "    <tr>\n",
       "      <th>94</th>\n",
       "      <td>1.000000</td>\n",
       "      <td>0.477273</td>\n",
       "      <td>95.0</td>\n",
       "    </tr>\n",
       "    <tr>\n",
       "      <th>95</th>\n",
       "      <td>1.000000</td>\n",
       "      <td>0.477273</td>\n",
       "      <td>96.0</td>\n",
       "    </tr>\n",
       "    <tr>\n",
       "      <th>96</th>\n",
       "      <td>1.000000</td>\n",
       "      <td>0.477273</td>\n",
       "      <td>97.0</td>\n",
       "    </tr>\n",
       "    <tr>\n",
       "      <th>97</th>\n",
       "      <td>1.000000</td>\n",
       "      <td>0.477273</td>\n",
       "      <td>98.0</td>\n",
       "    </tr>\n",
       "    <tr>\n",
       "      <th>98</th>\n",
       "      <td>1.000000</td>\n",
       "      <td>0.477273</td>\n",
       "      <td>99.0</td>\n",
       "    </tr>\n",
       "  </tbody>\n",
       "</table>\n",
       "<p>99 rows × 3 columns</p>\n",
       "</div>"
      ],
      "text/plain": [
       "         tpr       fpr  threshold\n",
       "0   0.714286  0.937500        1.0\n",
       "1   0.904762  0.950000        2.0\n",
       "2   0.904762  0.904762        3.0\n",
       "3   0.904762  0.863636        4.0\n",
       "4   0.904762  0.863636        5.0\n",
       "..       ...       ...        ...\n",
       "94  1.000000  0.477273       95.0\n",
       "95  1.000000  0.477273       96.0\n",
       "96  1.000000  0.477273       97.0\n",
       "97  1.000000  0.477273       98.0\n",
       "98  1.000000  0.477273       99.0\n",
       "\n",
       "[99 rows x 3 columns]"
      ]
     },
     "execution_count": 44,
     "metadata": {},
     "output_type": "execute_result"
    }
   ],
   "source": [
    "pivot = pd.DataFrame(roc_point,columns = ['tpr','fpr'])\n",
    "pivot[\"threshold\"] = thresholds\n",
    "pivot                    "
   ]
  },
  {
   "cell_type": "code",
   "execution_count": 45,
   "id": "84669258",
   "metadata": {},
   "outputs": [
    {
     "data": {
      "text/plain": [
       "[<matplotlib.lines.Line2D at 0x2602a0a53d0>]"
      ]
     },
     "execution_count": 45,
     "metadata": {},
     "output_type": "execute_result"
    },
    {
     "data": {
      "image/png": "[encoded data removed]",
      "text/plain": [
       "<Figure size 432x288 with 1 Axes>"
      ]
     },
     "metadata": {
      "needs_background": "light"
     },
     "output_type": "display_data"
    }
   ],
   "source": [
    "plt.plot(pivot.fpr,pivot.tpr)"
   ]
  },
  {
   "cell_type": "code",
   "execution_count": null,
   "id": "0cdff1da",
   "metadata": {},
   "outputs": [],
   "source": []
  },
  {
   "cell_type": "code",
   "execution_count": null,
   "id": "662c214b",
   "metadata": {},
   "outputs": [],
   "source": []
  }
 ],
 "metadata": {
  "kernelspec": {
   "display_name": "Python 3 (ipykernel)",
   "language": "python",
   "name": "python3"
  },
  "language_info": {
   "codemirror_mode": {
    "name": "ipython",
    "version": 3
   },
   "file_extension": ".py",
   "mimetype": "text/x-python",
   "name": "python",
   "nbconvert_exporter": "python",
   "pygments_lexer": "ipython3",
   "version": "3.9.6"
  }
 },
 "nbformat": 4,
 "nbformat_minor": 5
}
