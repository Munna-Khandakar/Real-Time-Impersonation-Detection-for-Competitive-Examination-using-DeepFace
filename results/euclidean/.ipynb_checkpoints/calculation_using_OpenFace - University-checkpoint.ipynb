{
 "cells": [
  {
   "cell_type": "code",
   "execution_count": 1,
   "id": "b5a00a69",
   "metadata": {},
   "outputs": [],
   "source": [
    "import pandas as pd\n",
    "from deepface import DeepFace"
   ]
  },
  {
   "cell_type": "code",
   "execution_count": 2,
   "id": "d542018c",
   "metadata": {},
   "outputs": [
    {
     "data": {
      "text/html": [
       "<div>\n",
       "<style scoped>\n",
       "    .dataframe tbody tr th:only-of-type {\n",
       "        vertical-align: middle;\n",
       "    }\n",
       "\n",
       "    .dataframe tbody tr th {\n",
       "        vertical-align: top;\n",
       "    }\n",
       "\n",
       "    .dataframe thead th {\n",
       "        text-align: right;\n",
       "    }\n",
       "</style>\n",
       "<table border=\"1\" class=\"dataframe\">\n",
       "  <thead>\n",
       "    <tr style=\"text-align: right;\">\n",
       "      <th></th>\n",
       "      <th>file_x</th>\n",
       "      <th>file_y</th>\n",
       "      <th>Decision</th>\n",
       "    </tr>\n",
       "  </thead>\n",
       "  <tbody>\n",
       "    <tr>\n",
       "      <th>0</th>\n",
       "      <td>1.jpg</td>\n",
       "      <td>2.jpg</td>\n",
       "      <td>No</td>\n",
       "    </tr>\n",
       "    <tr>\n",
       "      <th>1</th>\n",
       "      <td>1.jpg</td>\n",
       "      <td>3.jpg</td>\n",
       "      <td>No</td>\n",
       "    </tr>\n",
       "    <tr>\n",
       "      <th>2</th>\n",
       "      <td>1.jpg</td>\n",
       "      <td>32.jpg</td>\n",
       "      <td>Yes</td>\n",
       "    </tr>\n",
       "    <tr>\n",
       "      <th>3</th>\n",
       "      <td>2.jpg</td>\n",
       "      <td>3.jpg</td>\n",
       "      <td>No</td>\n",
       "    </tr>\n",
       "    <tr>\n",
       "      <th>4</th>\n",
       "      <td>2.jpg</td>\n",
       "      <td>33.jpg</td>\n",
       "      <td>Yes</td>\n",
       "    </tr>\n",
       "  </tbody>\n",
       "</table>\n",
       "</div>"
      ],
      "text/plain": [
       "  file_x  file_y Decision\n",
       "0  1.jpg   2.jpg       No\n",
       "1  1.jpg   3.jpg       No\n",
       "2  1.jpg  32.jpg      Yes\n",
       "3  2.jpg   3.jpg       No\n",
       "4  2.jpg  33.jpg      Yes"
      ]
     },
     "execution_count": 2,
     "metadata": {},
     "output_type": "execute_result"
    }
   ],
   "source": [
    "df = pd.read_csv('../../dataset/Labeled Faces in the University Students Dataset/master.csv')\n",
    "df.head()"
   ]
  },
  {
   "cell_type": "code",
   "execution_count": 3,
   "id": "1ad0e1a3",
   "metadata": {},
   "outputs": [],
   "source": [
    "df['file_x'] = '../../dataset/Labeled Faces in the University Students Dataset/' + df['file_x'].astype(str)\n",
    "df['file_y'] = '../../dataset/Labeled Faces in the University Students Dataset/' + df['file_y'].astype(str)"
   ]
  },
  {
   "cell_type": "code",
   "execution_count": 4,
   "id": "dc82a916",
   "metadata": {},
   "outputs": [
    {
     "data": {
      "text/plain": [
       "[['../../dataset/Labeled Faces in the University Students Dataset/1.jpg',\n",
       "  '../../dataset/Labeled Faces in the University Students Dataset/2.jpg'],\n",
       " ['../../dataset/Labeled Faces in the University Students Dataset/1.jpg',\n",
       "  '../../dataset/Labeled Faces in the University Students Dataset/3.jpg'],\n",
       " ['../../dataset/Labeled Faces in the University Students Dataset/1.jpg',\n",
       "  '../../dataset/Labeled Faces in the University Students Dataset/32.jpg'],\n",
       " ['../../dataset/Labeled Faces in the University Students Dataset/2.jpg',\n",
       "  '../../dataset/Labeled Faces in the University Students Dataset/3.jpg'],\n",
       " ['../../dataset/Labeled Faces in the University Students Dataset/2.jpg',\n",
       "  '../../dataset/Labeled Faces in the University Students Dataset/33.jpg'],\n",
       " ['../../dataset/Labeled Faces in the University Students Dataset/2.jpg',\n",
       "  '../../dataset/Labeled Faces in the University Students Dataset/5.jpg'],\n",
       " ['../../dataset/Labeled Faces in the University Students Dataset/3.jpg',\n",
       "  '../../dataset/Labeled Faces in the University Students Dataset/35.jpg'],\n",
       " ['../../dataset/Labeled Faces in the University Students Dataset/3.jpg',\n",
       "  '../../dataset/Labeled Faces in the University Students Dataset/5.jpg'],\n",
       " ['../../dataset/Labeled Faces in the University Students Dataset/3.jpg',\n",
       "  '../../dataset/Labeled Faces in the University Students Dataset/34.jpg'],\n",
       " ['../../dataset/Labeled Faces in the University Students Dataset/8.jpg',\n",
       "  '../../dataset/Labeled Faces in the University Students Dataset/5.jpg'],\n",
       " ['../../dataset/Labeled Faces in the University Students Dataset/8.jpg',\n",
       "  '../../dataset/Labeled Faces in the University Students Dataset/11.jpg'],\n",
       " ['../../dataset/Labeled Faces in the University Students Dataset/8.jpg',\n",
       "  '../../dataset/Labeled Faces in the University Students Dataset/17.jpg'],\n",
       " ['../../dataset/Labeled Faces in the University Students Dataset/31.jpg',\n",
       "  '../../dataset/Labeled Faces in the University Students Dataset/44.jpg'],\n",
       " ['../../dataset/Labeled Faces in the University Students Dataset/26.jpg',\n",
       "  '../../dataset/Labeled Faces in the University Students Dataset/28.jpg'],\n",
       " ['../../dataset/Labeled Faces in the University Students Dataset/24.jpg',\n",
       "  '../../dataset/Labeled Faces in the University Students Dataset/41.jpg'],\n",
       " ['../../dataset/Labeled Faces in the University Students Dataset/43.jpg',\n",
       "  '../../dataset/Labeled Faces in the University Students Dataset/42.jpg'],\n",
       " ['../../dataset/Labeled Faces in the University Students Dataset/40.jpg',\n",
       "  '../../dataset/Labeled Faces in the University Students Dataset/35.jpg'],\n",
       " ['../../dataset/Labeled Faces in the University Students Dataset/33.jpg',\n",
       "  '../../dataset/Labeled Faces in the University Students Dataset/2.jpg'],\n",
       " ['../../dataset/Labeled Faces in the University Students Dataset/20.jpg',\n",
       "  '../../dataset/Labeled Faces in the University Students Dataset/36.jpg'],\n",
       " ['../../dataset/Labeled Faces in the University Students Dataset/36.jpg',\n",
       "  '../../dataset/Labeled Faces in the University Students Dataset/17.jpg'],\n",
       " ['../../dataset/Labeled Faces in the University Students Dataset/39.jpg',\n",
       "  '../../dataset/Labeled Faces in the University Students Dataset/8.jpg'],\n",
       " ['../../dataset/Labeled Faces in the University Students Dataset/26.jpg',\n",
       "  '../../dataset/Labeled Faces in the University Students Dataset/28.jpg'],\n",
       " ['../../dataset/Labeled Faces in the University Students Dataset/2.jpg',\n",
       "  '../../dataset/Labeled Faces in the University Students Dataset/37.jpg'],\n",
       " ['../../dataset/Labeled Faces in the University Students Dataset/44.jpg',\n",
       "  '../../dataset/Labeled Faces in the University Students Dataset/14.jpg'],\n",
       " ['../../dataset/Labeled Faces in the University Students Dataset/35.jpg',\n",
       "  '../../dataset/Labeled Faces in the University Students Dataset/32.jpg'],\n",
       " ['../../dataset/Labeled Faces in the University Students Dataset/40.jpg',\n",
       "  '../../dataset/Labeled Faces in the University Students Dataset/39.jpg'],\n",
       " ['../../dataset/Labeled Faces in the University Students Dataset/14.jpg',\n",
       "  '../../dataset/Labeled Faces in the University Students Dataset/17.jpg'],\n",
       " ['../../dataset/Labeled Faces in the University Students Dataset/36.jpg',\n",
       "  '../../dataset/Labeled Faces in the University Students Dataset/5.jpg'],\n",
       " ['../../dataset/Labeled Faces in the University Students Dataset/24.jpg',\n",
       "  '../../dataset/Labeled Faces in the University Students Dataset/41.jpg'],\n",
       " ['../../dataset/Labeled Faces in the University Students Dataset/3.jpg',\n",
       "  '../../dataset/Labeled Faces in the University Students Dataset/34.jpg'],\n",
       " ['../../dataset/Labeled Faces in the University Students Dataset/37.jpg',\n",
       "  '../../dataset/Labeled Faces in the University Students Dataset/14.jpg'],\n",
       " ['../../dataset/Labeled Faces in the University Students Dataset/44.jpg',\n",
       "  '../../dataset/Labeled Faces in the University Students Dataset/36.jpg'],\n",
       " ['../../dataset/Labeled Faces in the University Students Dataset/3.jpg',\n",
       "  '../../dataset/Labeled Faces in the University Students Dataset/5.jpg'],\n",
       " ['../../dataset/Labeled Faces in the University Students Dataset/32.jpg',\n",
       "  '../../dataset/Labeled Faces in the University Students Dataset/36.jpg'],\n",
       " ['../../dataset/Labeled Faces in the University Students Dataset/38.jpg',\n",
       "  '../../dataset/Labeled Faces in the University Students Dataset/33.jpg'],\n",
       " ['../../dataset/Labeled Faces in the University Students Dataset/28.jpg',\n",
       "  '../../dataset/Labeled Faces in the University Students Dataset/26.jpg'],\n",
       " ['../../dataset/Labeled Faces in the University Students Dataset/40.jpg',\n",
       "  '../../dataset/Labeled Faces in the University Students Dataset/17.jpg'],\n",
       " ['../../dataset/Labeled Faces in the University Students Dataset/35.jpg',\n",
       "  '../../dataset/Labeled Faces in the University Students Dataset/5.jpg'],\n",
       " ['../../dataset/Labeled Faces in the University Students Dataset/32.jpg',\n",
       "  '../../dataset/Labeled Faces in the University Students Dataset/1.jpg'],\n",
       " ['../../dataset/Labeled Faces in the University Students Dataset/2.jpg',\n",
       "  '../../dataset/Labeled Faces in the University Students Dataset/33.jpg'],\n",
       " ['../../dataset/Labeled Faces in the University Students Dataset/5.jpg',\n",
       "  '../../dataset/Labeled Faces in the University Students Dataset/35.jpg'],\n",
       " ['../../dataset/Labeled Faces in the University Students Dataset/8.jpg',\n",
       "  '../../dataset/Labeled Faces in the University Students Dataset/39.jpg'],\n",
       " ['../../dataset/Labeled Faces in the University Students Dataset/44.jpg',\n",
       "  '../../dataset/Labeled Faces in the University Students Dataset/40.jpg'],\n",
       " ['../../dataset/Labeled Faces in the University Students Dataset/38.jpg',\n",
       "  '../../dataset/Labeled Faces in the University Students Dataset/31.jpg']]"
      ]
     },
     "execution_count": 4,
     "metadata": {},
     "output_type": "execute_result"
    }
   ],
   "source": [
    "instances = df[[\"file_x\", \"file_y\"]].values.tolist()\n",
    "instances"
   ]
  },
  {
   "cell_type": "code",
   "execution_count": 5,
   "id": "957f4347",
   "metadata": {},
   "outputs": [],
   "source": [
    "model_name = \"OpenFace\"\n",
    "distance_metric = \"euclidean\""
   ]
  },
  {
   "cell_type": "code",
   "execution_count": null,
   "id": "5b506f6b",
   "metadata": {},
   "outputs": [
    {
     "name": "stderr",
     "output_type": "stream",
     "text": [
      "Verification:   2%|▏         | 1/44 [00:31<22:46, 31.78s/it]"
     ]
    }
   ],
   "source": [
    "resp_obj = DeepFace.verify(instances, model_name = model_name, distance_metric = distance_metric)"
   ]
  },
  {
   "cell_type": "code",
   "execution_count": 29,
   "id": "1e09834a",
   "metadata": {},
   "outputs": [],
   "source": [
    "distances = []\n",
    "for i in range(0, len(instances)):\n",
    "    distance = round(resp_obj[\"pair_%s\" % (i+1)][\"distance\"], 4)\n",
    "    distances.append(distance)"
   ]
  },
  {
   "cell_type": "code",
   "execution_count": 30,
   "id": "b8e5fc10",
   "metadata": {},
   "outputs": [
    {
     "data": {
      "text/html": [
       "<div>\n",
       "<style scoped>\n",
       "    .dataframe tbody tr th:only-of-type {\n",
       "        vertical-align: middle;\n",
       "    }\n",
       "\n",
       "    .dataframe tbody tr th {\n",
       "        vertical-align: top;\n",
       "    }\n",
       "\n",
       "    .dataframe thead th {\n",
       "        text-align: right;\n",
       "    }\n",
       "</style>\n",
       "<table border=\"1\" class=\"dataframe\">\n",
       "  <thead>\n",
       "    <tr style=\"text-align: right;\">\n",
       "      <th></th>\n",
       "      <th>file_x</th>\n",
       "      <th>file_y</th>\n",
       "      <th>Decision</th>\n",
       "      <th>distance</th>\n",
       "    </tr>\n",
       "  </thead>\n",
       "  <tbody>\n",
       "    <tr>\n",
       "      <th>0</th>\n",
       "      <td>../../dataset/Labeled Faces in the University ...</td>\n",
       "      <td>../../dataset/Labeled Faces in the University ...</td>\n",
       "      <td>No</td>\n",
       "      <td>0.9142</td>\n",
       "    </tr>\n",
       "    <tr>\n",
       "      <th>1</th>\n",
       "      <td>../../dataset/Labeled Faces in the University ...</td>\n",
       "      <td>../../dataset/Labeled Faces in the University ...</td>\n",
       "      <td>No</td>\n",
       "      <td>0.6673</td>\n",
       "    </tr>\n",
       "    <tr>\n",
       "      <th>2</th>\n",
       "      <td>../../dataset/Labeled Faces in the University ...</td>\n",
       "      <td>../../dataset/Labeled Faces in the University ...</td>\n",
       "      <td>Yes</td>\n",
       "      <td>0.0000</td>\n",
       "    </tr>\n",
       "    <tr>\n",
       "      <th>3</th>\n",
       "      <td>../../dataset/Labeled Faces in the University ...</td>\n",
       "      <td>../../dataset/Labeled Faces in the University ...</td>\n",
       "      <td>No</td>\n",
       "      <td>0.8800</td>\n",
       "    </tr>\n",
       "    <tr>\n",
       "      <th>4</th>\n",
       "      <td>../../dataset/Labeled Faces in the University ...</td>\n",
       "      <td>../../dataset/Labeled Faces in the University ...</td>\n",
       "      <td>Yes</td>\n",
       "      <td>0.0000</td>\n",
       "    </tr>\n",
       "  </tbody>\n",
       "</table>\n",
       "</div>"
      ],
      "text/plain": [
       "                                              file_x  \\\n",
       "0  ../../dataset/Labeled Faces in the University ...   \n",
       "1  ../../dataset/Labeled Faces in the University ...   \n",
       "2  ../../dataset/Labeled Faces in the University ...   \n",
       "3  ../../dataset/Labeled Faces in the University ...   \n",
       "4  ../../dataset/Labeled Faces in the University ...   \n",
       "\n",
       "                                              file_y Decision  distance  \n",
       "0  ../../dataset/Labeled Faces in the University ...       No    0.9142  \n",
       "1  ../../dataset/Labeled Faces in the University ...       No    0.6673  \n",
       "2  ../../dataset/Labeled Faces in the University ...      Yes    0.0000  \n",
       "3  ../../dataset/Labeled Faces in the University ...       No    0.8800  \n",
       "4  ../../dataset/Labeled Faces in the University ...      Yes    0.0000  "
      ]
     },
     "execution_count": 30,
     "metadata": {},
     "output_type": "execute_result"
    }
   ],
   "source": [
    "df[\"distance\"] = distances\n",
    "df.head()"
   ]
  },
  {
   "cell_type": "code",
   "execution_count": 31,
   "id": "db33810b",
   "metadata": {},
   "outputs": [
    {
     "data": {
      "text/plain": [
       "<AxesSubplot:ylabel='Density'>"
      ]
     },
     "execution_count": 31,
     "metadata": {},
     "output_type": "execute_result"
    },
    {
     "data": {
      "image/png": "[encoded data removed]",
      "text/plain": [
       "<Figure size 432x288 with 1 Axes>"
      ]
     },
     "metadata": {
      "needs_background": "light"
     },
     "output_type": "display_data"
    }
   ],
   "source": [
    "df[df.Decision == \"Yes\"].distance.plot.kde()\n",
    "df[df.Decision == \"No\"].distance.plot.kde()"
   ]
  },
  {
   "cell_type": "code",
   "execution_count": 32,
   "id": "72f7eab7",
   "metadata": {},
   "outputs": [],
   "source": [
    "from chefboost import Chefboost as chef"
   ]
  },
  {
   "cell_type": "code",
   "execution_count": 33,
   "id": "1bfcbcb8",
   "metadata": {},
   "outputs": [],
   "source": [
    "config = {'algorithm': 'C4.5'}"
   ]
  },
  {
   "cell_type": "code",
   "execution_count": 34,
   "id": "8f9392d1",
   "metadata": {},
   "outputs": [
    {
     "name": "stdout",
     "output_type": "stream",
     "text": [
      "[INFO]:  2 CPU cores will be allocated in parallel running\n",
      "C4.5  tree is going to be built...\n",
      "-------------------------\n",
      "finished in  0.7069990634918213  seconds\n",
      "-------------------------\n",
      "Evaluate  train set\n",
      "-------------------------\n",
      "Accuracy:  86.36363636363636 % on  44  instances\n",
      "Labels:  ['No' 'Yes']\n",
      "Confusion matrix:  [[19, 2], [4, 19]]\n",
      "Precision:  90.4762 %, Recall:  82.6087 %, F1:  86.3636 %\n"
     ]
    }
   ],
   "source": [
    "tmp_df = df[['distance', 'Decision']].rename(columns = {\"decision\": \"Decision\"}).copy()\n",
    "model = chef.fit(tmp_df, config)"
   ]
  },
  {
   "cell_type": "code",
   "execution_count": 35,
   "id": "6cc62a97",
   "metadata": {},
   "outputs": [],
   "source": [
    "threshold = 0.2825 #comes from c4.5 algorithm"
   ]
  },
  {
   "cell_type": "code",
   "execution_count": 36,
   "id": "8ce0272f",
   "metadata": {},
   "outputs": [],
   "source": [
    "df[\"prediction\"] = \"No\""
   ]
  },
  {
   "cell_type": "code",
   "execution_count": 37,
   "id": "f78670d8",
   "metadata": {},
   "outputs": [],
   "source": [
    "idx = df[df.distance <= threshold].index\n",
    "df.loc[idx, 'prediction'] = 'Yes'"
   ]
  },
  {
   "cell_type": "code",
   "execution_count": 38,
   "id": "e884067a",
   "metadata": {},
   "outputs": [
    {
     "data": {
      "text/html": [
       "<div>\n",
       "<style scoped>\n",
       "    .dataframe tbody tr th:only-of-type {\n",
       "        vertical-align: middle;\n",
       "    }\n",
       "\n",
       "    .dataframe tbody tr th {\n",
       "        vertical-align: top;\n",
       "    }\n",
       "\n",
       "    .dataframe thead th {\n",
       "        text-align: right;\n",
       "    }\n",
       "</style>\n",
       "<table border=\"1\" class=\"dataframe\">\n",
       "  <thead>\n",
       "    <tr style=\"text-align: right;\">\n",
       "      <th></th>\n",
       "      <th>file_x</th>\n",
       "      <th>file_y</th>\n",
       "      <th>Decision</th>\n",
       "      <th>distance</th>\n",
       "      <th>prediction</th>\n",
       "    </tr>\n",
       "  </thead>\n",
       "  <tbody>\n",
       "    <tr>\n",
       "      <th>43</th>\n",
       "      <td>../../dataset/Labeled Faces in the University ...</td>\n",
       "      <td>../../dataset/Labeled Faces in the University ...</td>\n",
       "      <td>No</td>\n",
       "      <td>0.3547</td>\n",
       "      <td>No</td>\n",
       "    </tr>\n",
       "    <tr>\n",
       "      <th>3</th>\n",
       "      <td>../../dataset/Labeled Faces in the University ...</td>\n",
       "      <td>../../dataset/Labeled Faces in the University ...</td>\n",
       "      <td>No</td>\n",
       "      <td>0.8800</td>\n",
       "      <td>No</td>\n",
       "    </tr>\n",
       "    <tr>\n",
       "      <th>25</th>\n",
       "      <td>../../dataset/Labeled Faces in the University ...</td>\n",
       "      <td>../../dataset/Labeled Faces in the University ...</td>\n",
       "      <td>No</td>\n",
       "      <td>0.4522</td>\n",
       "      <td>No</td>\n",
       "    </tr>\n",
       "    <tr>\n",
       "      <th>1</th>\n",
       "      <td>../../dataset/Labeled Faces in the University ...</td>\n",
       "      <td>../../dataset/Labeled Faces in the University ...</td>\n",
       "      <td>No</td>\n",
       "      <td>0.6673</td>\n",
       "      <td>No</td>\n",
       "    </tr>\n",
       "    <tr>\n",
       "      <th>24</th>\n",
       "      <td>../../dataset/Labeled Faces in the University ...</td>\n",
       "      <td>../../dataset/Labeled Faces in the University ...</td>\n",
       "      <td>No</td>\n",
       "      <td>0.4961</td>\n",
       "      <td>No</td>\n",
       "    </tr>\n",
       "  </tbody>\n",
       "</table>\n",
       "</div>"
      ],
      "text/plain": [
       "                                               file_x  \\\n",
       "43  ../../dataset/Labeled Faces in the University ...   \n",
       "3   ../../dataset/Labeled Faces in the University ...   \n",
       "25  ../../dataset/Labeled Faces in the University ...   \n",
       "1   ../../dataset/Labeled Faces in the University ...   \n",
       "24  ../../dataset/Labeled Faces in the University ...   \n",
       "\n",
       "                                               file_y Decision  distance  \\\n",
       "43  ../../dataset/Labeled Faces in the University ...       No    0.3547   \n",
       "3   ../../dataset/Labeled Faces in the University ...       No    0.8800   \n",
       "25  ../../dataset/Labeled Faces in the University ...       No    0.4522   \n",
       "1   ../../dataset/Labeled Faces in the University ...       No    0.6673   \n",
       "24  ../../dataset/Labeled Faces in the University ...       No    0.4961   \n",
       "\n",
       "   prediction  \n",
       "43         No  \n",
       "3          No  \n",
       "25         No  \n",
       "1          No  \n",
       "24         No  "
      ]
     },
     "execution_count": 38,
     "metadata": {},
     "output_type": "execute_result"
    }
   ],
   "source": [
    "df.sample(5)"
   ]
  },
  {
   "cell_type": "code",
   "execution_count": 39,
   "id": "aa987bb4",
   "metadata": {},
   "outputs": [],
   "source": [
    "from sklearn.metrics import confusion_matrix,roc_curve,auc"
   ]
  },
  {
   "cell_type": "code",
   "execution_count": 40,
   "id": "b94873c5",
   "metadata": {},
   "outputs": [],
   "source": [
    "cm = confusion_matrix(df.Decision.values, df.prediction.values)"
   ]
  },
  {
   "cell_type": "code",
   "execution_count": 41,
   "id": "4dc499da",
   "metadata": {},
   "outputs": [],
   "source": [
    "tn, fp, fn, tp = cm.ravel()"
   ]
  },
  {
   "cell_type": "code",
   "execution_count": 42,
   "id": "72e29e15",
   "metadata": {},
   "outputs": [
    {
     "data": {
      "text/plain": [
       "(19, 4, 2, 19)"
      ]
     },
     "execution_count": 42,
     "metadata": {},
     "output_type": "execute_result"
    }
   ],
   "source": [
    "tn, fp, fn, tp"
   ]
  },
  {
   "cell_type": "code",
   "execution_count": 43,
   "id": "634e930c",
   "metadata": {},
   "outputs": [],
   "source": [
    "recall = tp / (tp + fn)\n",
    "precision = tp / (tp + fp)\n",
    "accuracy = (tp + tn)/(tn + fp +  fn + tp)\n",
    "f1 = 2 * (precision * recall) / (precision + recall)"
   ]
  },
  {
   "cell_type": "code",
   "execution_count": 44,
   "id": "dff14ec7",
   "metadata": {},
   "outputs": [
    {
     "name": "stdout",
     "output_type": "stream",
     "text": [
      "Precision:  82.6086956521739 %\n",
      "Recall:  90.47619047619048 %\n",
      "F1 score  86.36363636363636 %\n",
      "Accuracy:  86.36363636363636 %\n"
     ]
    }
   ],
   "source": [
    "print(\"Precision: \", 100*precision,\"%\")\n",
    "print(\"Recall: \", 100*recall,\"%\")\n",
    "print(\"F1 score \",100*f1, \"%\")\n",
    "print(\"Accuracy: \", 100*accuracy,\"%\")"
   ]
  },
  {
   "cell_type": "code",
   "execution_count": 45,
   "id": "f05e68f6",
   "metadata": {},
   "outputs": [],
   "source": [
    "import numpy as np\n",
    "import matplotlib.pyplot as plt"
   ]
  },
  {
   "cell_type": "code",
   "execution_count": 46,
   "id": "4f851070",
   "metadata": {},
   "outputs": [],
   "source": [
    "df[\"p\"] = \"No\"\n",
    "roc_point=[]"
   ]
  },
  {
   "cell_type": "code",
   "execution_count": 47,
   "id": "95c3d80a",
   "metadata": {},
   "outputs": [
    {
     "data": {
      "text/plain": [
       "[[0.7142857142857143, 0.9375],\n",
       " [0.7142857142857143, 0.9375],\n",
       " [0.7142857142857143, 0.9375],\n",
       " [0.7142857142857143, 0.9375],\n",
       " [0.9047619047619048, 0.95],\n",
       " [0.9047619047619048, 0.95],\n",
       " [0.9047619047619048, 0.95],\n",
       " [0.9047619047619048, 0.95],\n",
       " [0.9047619047619048, 0.95],\n",
       " [0.9047619047619048, 0.95],\n",
       " [0.9047619047619048, 0.9047619047619048],\n",
       " [0.9047619047619048, 0.9047619047619048],\n",
       " [0.9047619047619048, 0.9047619047619048],\n",
       " [0.9047619047619048, 0.9047619047619048],\n",
       " [0.9047619047619048, 0.8636363636363636],\n",
       " [0.9047619047619048, 0.8636363636363636],\n",
       " [0.9047619047619048, 0.8636363636363636],\n",
       " [0.9047619047619048, 0.8636363636363636],\n",
       " [0.9047619047619048, 0.8636363636363636],\n",
       " [0.9047619047619048, 0.8636363636363636],\n",
       " [0.9047619047619048, 0.8636363636363636],\n",
       " [0.9047619047619048, 0.8636363636363636],\n",
       " [0.9047619047619048, 0.8636363636363636],\n",
       " [0.9047619047619048, 0.8636363636363636],\n",
       " [0.9047619047619048, 0.8260869565217391],\n",
       " [0.9047619047619048, 0.8260869565217391],\n",
       " [0.9047619047619048, 0.8260869565217391],\n",
       " [0.9047619047619048, 0.8260869565217391],\n",
       " [0.9047619047619048, 0.8260869565217391],\n",
       " [0.9047619047619048, 0.8260869565217391],\n",
       " [0.9047619047619048, 0.7916666666666666],\n",
       " [0.9047619047619048, 0.7916666666666666],\n",
       " [0.9047619047619048, 0.76],\n",
       " [0.9047619047619048, 0.76],\n",
       " [0.9047619047619048, 0.76],\n",
       " [0.9047619047619048, 0.7307692307692307],\n",
       " [0.9047619047619048, 0.7307692307692307],\n",
       " [0.9047619047619048, 0.7307692307692307],\n",
       " [0.9047619047619048, 0.7037037037037037],\n",
       " [0.9047619047619048, 0.7037037037037037],\n",
       " [0.9047619047619048, 0.7037037037037037],\n",
       " [0.9047619047619048, 0.7037037037037037],\n",
       " [0.9047619047619048, 0.7037037037037037],\n",
       " [0.9047619047619048, 0.7037037037037037],\n",
       " [0.9047619047619048, 0.6785714285714286],\n",
       " [0.9047619047619048, 0.6551724137931034],\n",
       " [0.9047619047619048, 0.6333333333333333],\n",
       " [0.9047619047619048, 0.6333333333333333],\n",
       " [0.9047619047619048, 0.6333333333333333],\n",
       " [0.9047619047619048, 0.6129032258064516],\n",
       " [0.9523809523809523, 0.5882352941176471],\n",
       " [0.9523809523809523, 0.5882352941176471],\n",
       " [0.9523809523809523, 0.5882352941176471],\n",
       " [1.0, 0.5833333333333334],\n",
       " [1.0, 0.5833333333333334],\n",
       " [1.0, 0.5833333333333334],\n",
       " [1.0, 0.5833333333333334],\n",
       " [1.0, 0.5675675675675675],\n",
       " [1.0, 0.5675675675675675],\n",
       " [1.0, 0.5675675675675675],\n",
       " [1.0, 0.5675675675675675],\n",
       " [1.0, 0.5675675675675675],\n",
       " [1.0, 0.5675675675675675],\n",
       " [1.0, 0.5526315789473685],\n",
       " [1.0, 0.5526315789473685],\n",
       " [1.0, 0.5526315789473685],\n",
       " [1.0, 0.525],\n",
       " [1.0, 0.525],\n",
       " [1.0, 0.525],\n",
       " [1.0, 0.525],\n",
       " [1.0, 0.5121951219512195],\n",
       " [1.0, 0.5121951219512195],\n",
       " [1.0, 0.5121951219512195],\n",
       " [1.0, 0.5121951219512195],\n",
       " [1.0, 0.5121951219512195],\n",
       " [1.0, 0.5121951219512195],\n",
       " [1.0, 0.5121951219512195],\n",
       " [1.0, 0.5121951219512195],\n",
       " [1.0, 0.5121951219512195],\n",
       " [1.0, 0.5121951219512195],\n",
       " [1.0, 0.5121951219512195],\n",
       " [1.0, 0.5121951219512195],\n",
       " [1.0, 0.5121951219512195],\n",
       " [1.0, 0.5121951219512195],\n",
       " [1.0, 0.5121951219512195],\n",
       " [1.0, 0.5121951219512195],\n",
       " [1.0, 0.5121951219512195],\n",
       " [1.0, 0.5],\n",
       " [1.0, 0.5],\n",
       " [1.0, 0.4883720930232558],\n",
       " [1.0, 0.4883720930232558],\n",
       " [1.0, 0.4772727272727273],\n",
       " [1.0, 0.4772727272727273],\n",
       " [1.0, 0.4772727272727273],\n",
       " [1.0, 0.4772727272727273],\n",
       " [1.0, 0.4772727272727273],\n",
       " [1.0, 0.4772727272727273],\n",
       " [1.0, 0.4772727272727273],\n",
       " [1.0, 0.4772727272727273]]"
      ]
     },
     "execution_count": 47,
     "metadata": {},
     "output_type": "execute_result"
    }
   ],
   "source": [
    "thresholds = list(np.array(list(range(1,100,1)))/100)\n",
    "for threshold in thresholds:\n",
    "    idx = df[df.distance <= threshold].index\n",
    "    df.loc[idx, 'p'] = 'Yes'\n",
    "    cm = confusion_matrix(df.Decision.values, df.p.values)\n",
    "    tn, fp, fn, tp = cm.ravel()\n",
    "    tpr = tp / (tp + fn)\n",
    "    fpr = tp / (tp + fp)\n",
    "    roc_point.append([tpr,fpr])\n",
    "roc_point"
   ]
  },
  {
   "cell_type": "code",
   "execution_count": 48,
   "id": "c45ec380",
   "metadata": {},
   "outputs": [
    {
     "data": {
      "text/html": [
       "<div>\n",
       "<style scoped>\n",
       "    .dataframe tbody tr th:only-of-type {\n",
       "        vertical-align: middle;\n",
       "    }\n",
       "\n",
       "    .dataframe tbody tr th {\n",
       "        vertical-align: top;\n",
       "    }\n",
       "\n",
       "    .dataframe thead th {\n",
       "        text-align: right;\n",
       "    }\n",
       "</style>\n",
       "<table border=\"1\" class=\"dataframe\">\n",
       "  <thead>\n",
       "    <tr style=\"text-align: right;\">\n",
       "      <th></th>\n",
       "      <th>tpr</th>\n",
       "      <th>fpr</th>\n",
       "      <th>threshold</th>\n",
       "    </tr>\n",
       "  </thead>\n",
       "  <tbody>\n",
       "    <tr>\n",
       "      <th>0</th>\n",
       "      <td>0.714286</td>\n",
       "      <td>0.937500</td>\n",
       "      <td>0.01</td>\n",
       "    </tr>\n",
       "    <tr>\n",
       "      <th>1</th>\n",
       "      <td>0.714286</td>\n",
       "      <td>0.937500</td>\n",
       "      <td>0.02</td>\n",
       "    </tr>\n",
       "    <tr>\n",
       "      <th>2</th>\n",
       "      <td>0.714286</td>\n",
       "      <td>0.937500</td>\n",
       "      <td>0.03</td>\n",
       "    </tr>\n",
       "    <tr>\n",
       "      <th>3</th>\n",
       "      <td>0.714286</td>\n",
       "      <td>0.937500</td>\n",
       "      <td>0.04</td>\n",
       "    </tr>\n",
       "    <tr>\n",
       "      <th>4</th>\n",
       "      <td>0.904762</td>\n",
       "      <td>0.950000</td>\n",
       "      <td>0.05</td>\n",
       "    </tr>\n",
       "    <tr>\n",
       "      <th>...</th>\n",
       "      <td>...</td>\n",
       "      <td>...</td>\n",
       "      <td>...</td>\n",
       "    </tr>\n",
       "    <tr>\n",
       "      <th>94</th>\n",
       "      <td>1.000000</td>\n",
       "      <td>0.477273</td>\n",
       "      <td>0.95</td>\n",
       "    </tr>\n",
       "    <tr>\n",
       "      <th>95</th>\n",
       "      <td>1.000000</td>\n",
       "      <td>0.477273</td>\n",
       "      <td>0.96</td>\n",
       "    </tr>\n",
       "    <tr>\n",
       "      <th>96</th>\n",
       "      <td>1.000000</td>\n",
       "      <td>0.477273</td>\n",
       "      <td>0.97</td>\n",
       "    </tr>\n",
       "    <tr>\n",
       "      <th>97</th>\n",
       "      <td>1.000000</td>\n",
       "      <td>0.477273</td>\n",
       "      <td>0.98</td>\n",
       "    </tr>\n",
       "    <tr>\n",
       "      <th>98</th>\n",
       "      <td>1.000000</td>\n",
       "      <td>0.477273</td>\n",
       "      <td>0.99</td>\n",
       "    </tr>\n",
       "  </tbody>\n",
       "</table>\n",
       "<p>99 rows × 3 columns</p>\n",
       "</div>"
      ],
      "text/plain": [
       "         tpr       fpr  threshold\n",
       "0   0.714286  0.937500       0.01\n",
       "1   0.714286  0.937500       0.02\n",
       "2   0.714286  0.937500       0.03\n",
       "3   0.714286  0.937500       0.04\n",
       "4   0.904762  0.950000       0.05\n",
       "..       ...       ...        ...\n",
       "94  1.000000  0.477273       0.95\n",
       "95  1.000000  0.477273       0.96\n",
       "96  1.000000  0.477273       0.97\n",
       "97  1.000000  0.477273       0.98\n",
       "98  1.000000  0.477273       0.99\n",
       "\n",
       "[99 rows x 3 columns]"
      ]
     },
     "execution_count": 48,
     "metadata": {},
     "output_type": "execute_result"
    }
   ],
   "source": [
    "pivot = pd.DataFrame(roc_point,columns = ['tpr','fpr'])\n",
    "pivot[\"threshold\"] = thresholds\n",
    "pivot"
   ]
  },
  {
   "cell_type": "code",
   "execution_count": 49,
   "id": "75f85c4f",
   "metadata": {},
   "outputs": [
    {
     "data": {
      "text/plain": [
       "[<matplotlib.lines.Line2D at 0x246e73bda00>]"
      ]
     },
     "execution_count": 49,
     "metadata": {},
     "output_type": "execute_result"
    },
    {
     "data": {
      "image/png": "[encoded data removed]",
      "text/plain": [
       "<Figure size 432x288 with 1 Axes>"
      ]
     },
     "metadata": {
      "needs_background": "light"
     },
     "output_type": "display_data"
    }
   ],
   "source": [
    "plt.plot(pivot.fpr,pivot.tpr)"
   ]
  },
  {
   "cell_type": "code",
   "execution_count": null,
   "id": "a738be49",
   "metadata": {},
   "outputs": [],
   "source": []
  }
 ],
 "metadata": {
  "kernelspec": {
   "display_name": "Python 3 (ipykernel)",
   "language": "python",
   "name": "python3"
  },
  "language_info": {
   "codemirror_mode": {
    "name": "ipython",
    "version": 3
   },
   "file_extension": ".py",
   "mimetype": "text/x-python",
   "name": "python",
   "nbconvert_exporter": "python",
   "pygments_lexer": "ipython3",
   "version": "3.9.6"
  }
 },
 "nbformat": 4,
 "nbformat_minor": 5
}
