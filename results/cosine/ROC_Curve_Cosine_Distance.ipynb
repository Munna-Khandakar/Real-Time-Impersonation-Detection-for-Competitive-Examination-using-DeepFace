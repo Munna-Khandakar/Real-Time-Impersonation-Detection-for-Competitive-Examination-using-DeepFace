{
 "cells": [
  {
   "cell_type": "markdown",
   "id": "855bdbc5",
   "metadata": {},
   "source": [
    "roc curve "
   ]
  },
  {
   "cell_type": "code",
   "execution_count": 1,
   "id": "17cda4b8",
   "metadata": {},
   "outputs": [],
   "source": [
    "import pandas as pd\n",
    "from deepface import DeepFace\n",
    "from chefboost import Chefboost as chef #for threshold \n",
    "import numpy as np\n",
    "import matplotlib.pyplot as plt\n",
    "from sklearn.metrics import confusion_matrix,roc_curve,auc"
   ]
  },
  {
   "cell_type": "code",
   "execution_count": 3,
   "id": "c145633a",
   "metadata": {},
   "outputs": [],
   "source": [
    "df = pd.read_csv('../../dataset/Labeled Faces in the Wild Dataset/master.csv')\n",
    "df['file_x'] = '../../dataset/Labeled Faces in the Wild Dataset/' + df['file_x'].astype(str)\n",
    "df['file_y'] = '../../dataset/Labeled Faces in the Wild Dataset/' + df['file_y'].astype(str)\n",
    "instances = df[[\"file_x\", \"file_y\"]].values.tolist()"
   ]
  },
  {
   "cell_type": "markdown",
   "id": "94287e65",
   "metadata": {},
   "source": [
    "facenet model cosine distance"
   ]
  },
  {
   "cell_type": "code",
   "execution_count": 4,
   "id": "e4505f33",
   "metadata": {},
   "outputs": [],
   "source": [
    "model_name = \"Facenet\"\n",
    "distance_metric = \"cosine\""
   ]
  },
  {
   "cell_type": "code",
   "execution_count": 5,
   "id": "4429eec7",
   "metadata": {},
   "outputs": [
    {
     "name": "stderr",
     "output_type": "stream",
     "text": [
      "Verification: 100%|██████████| 300/300 [15:52<00:00,  3.18s/it]\n"
     ]
    }
   ],
   "source": [
    "resp_obj = DeepFace.verify(instances, model_name = model_name, distance_metric = distance_metric)"
   ]
  },
  {
   "cell_type": "code",
   "execution_count": 7,
   "id": "ced85b7e",
   "metadata": {},
   "outputs": [
    {
     "name": "stdout",
     "output_type": "stream",
     "text": [
      "[INFO]:  2 CPU cores will be allocated in parallel running\n",
      "C4.5  tree is going to be built...\n",
      "-------------------------\n",
      "finished in  0.41699862480163574  seconds\n",
      "-------------------------\n",
      "Evaluate  train set\n",
      "-------------------------\n",
      "Accuracy:  96.66666666666667 % on  300  instances\n",
      "Labels:  ['Yes' 'No']\n",
      "Confusion matrix:  [[29, 1], [9, 261]]\n",
      "Precision:  96.6667 %, Recall:  76.3158 %, F1:  85.2941 %\n"
     ]
    }
   ],
   "source": [
    "distances = []\n",
    "for i in range(0, len(instances)):\n",
    "    distance = round(resp_obj[\"pair_%s\" % (i+1)][\"distance\"], 4)\n",
    "    distances.append(distance)\n",
    "df[\"distance\"] = distances\n",
    "config = {'algorithm': 'C4.5'}\n",
    "tmp_df = df[['distance', 'Decision']].rename(columns = {\"decision\": \"Decision\"}).copy()\n",
    "model = chef.fit(tmp_df, config)"
   ]
  },
  {
   "cell_type": "code",
   "execution_count": 8,
   "id": "51c7b2f8",
   "metadata": {},
   "outputs": [],
   "source": [
    "threshold = 0.32954 #comes from c4.5 algorithm"
   ]
  },
  {
   "cell_type": "code",
   "execution_count": 9,
   "id": "d1bd1f20",
   "metadata": {},
   "outputs": [],
   "source": [
    "df[\"prediction\"] = \"No\"\n",
    "idx = df[df.distance <= threshold].index\n",
    "df.loc[idx, 'prediction'] = 'Yes'\n",
    "df[\"p\"] = \"No\"\n",
    "roc_point=[]\n",
    "thresholds = list(np.array(list(range(1,100,1)))/100)\n",
    "for threshold in thresholds:\n",
    "    idx = df[df.distance <= threshold].index\n",
    "    df.loc[idx, 'p'] = 'Yes'\n",
    "    cm = confusion_matrix(df.Decision.values, df.p.values)\n",
    "    tn, fp, fn, tp = cm.ravel()\n",
    "    tpr = tp / (tp + fn)\n",
    "    fpr = fp / (fp + tn)\n",
    "    roc_point.append([tpr,fpr])"
   ]
  },
  {
   "cell_type": "code",
   "execution_count": 10,
   "id": "59281b23",
   "metadata": {},
   "outputs": [],
   "source": [
    "facenet_pivot = pd.DataFrame(roc_point,columns = ['tpr','fpr'])\n",
    "facenet_pivot[\"threshold\"] = thresholds"
   ]
  },
  {
   "cell_type": "code",
   "execution_count": 11,
   "id": "1f111c15",
   "metadata": {},
   "outputs": [
    {
     "data": {
      "text/plain": [
       "[<matplotlib.lines.Line2D at 0x170600ab670>]"
      ]
     },
     "execution_count": 11,
     "metadata": {},
     "output_type": "execute_result"
    },
    {
     "data": {
      "image/png": "[encoded data removed]",
      "text/plain": [
       "<Figure size 432x288 with 1 Axes>"
      ]
     },
     "metadata": {
      "needs_background": "light"
     },
     "output_type": "display_data"
    }
   ],
   "source": [
    "plt.plot(facenet_pivot.fpr,facenet_pivot.tpr) #roc curve of facenet using cosine distance"
   ]
  },
  {
   "cell_type": "markdown",
   "id": "e86d2dbc",
   "metadata": {},
   "source": [
    "OpenFace model cosine distance"
   ]
  },
  {
   "cell_type": "code",
   "execution_count": 12,
   "id": "720d8964",
   "metadata": {},
   "outputs": [],
   "source": [
    "model_name = \"OpenFace\"\n",
    "distance_metric = \"cosine\""
   ]
  },
  {
   "cell_type": "code",
   "execution_count": 13,
   "id": "70e90e6d",
   "metadata": {},
   "outputs": [
    {
     "name": "stderr",
     "output_type": "stream",
     "text": [
      "Verification: 100%|██████████| 300/300 [18:28<00:00,  3.69s/it]\n"
     ]
    }
   ],
   "source": [
    "resp_obj = DeepFace.verify(instances, model_name = model_name, distance_metric = distance_metric)"
   ]
  },
  {
   "cell_type": "code",
   "execution_count": 14,
   "id": "ca1b76a4",
   "metadata": {},
   "outputs": [
    {
     "name": "stdout",
     "output_type": "stream",
     "text": [
      "[INFO]:  2 CPU cores will be allocated in parallel running\n",
      "C4.5  tree is going to be built...\n",
      "-------------------------\n",
      "finished in  0.5400021076202393  seconds\n",
      "-------------------------\n",
      "Evaluate  train set\n",
      "-------------------------\n",
      "Accuracy:  87.66666666666667 % on  300  instances\n",
      "Labels:  ['Yes' 'No']\n",
      "Confusion matrix:  [[1, 0], [37, 262]]\n",
      "Precision:  100.0 %, Recall:  2.6316 %, F1:  5.1282 %\n"
     ]
    }
   ],
   "source": [
    "distances = []\n",
    "for i in range(0, len(instances)):\n",
    "    distance = round(resp_obj[\"pair_%s\" % (i+1)][\"distance\"], 4)\n",
    "    distances.append(distance)\n",
    "df[\"distance\"] = distances\n",
    "config = {'algorithm': 'C4.5'}\n",
    "tmp_df = df[['distance', 'Decision']].rename(columns = {\"decision\": \"Decision\"}).copy()\n",
    "model = chef.fit(tmp_df, config)"
   ]
  },
  {
   "cell_type": "code",
   "execution_count": 15,
   "id": "79e688c5",
   "metadata": {},
   "outputs": [],
   "source": [
    "threshold = 0.0365 #comes from c4.5 algorithm"
   ]
  },
  {
   "cell_type": "code",
   "execution_count": 16,
   "id": "bb20876b",
   "metadata": {},
   "outputs": [],
   "source": [
    "df[\"prediction\"] = \"No\"\n",
    "idx = df[df.distance <= threshold].index\n",
    "df.loc[idx, 'prediction'] = 'Yes'\n",
    "df[\"p\"] = \"No\"\n",
    "roc_point=[]\n",
    "thresholds = list(np.array(list(range(1,100,1)))/100)\n",
    "for threshold in thresholds:\n",
    "    idx = df[df.distance <= threshold].index\n",
    "    df.loc[idx, 'p'] = 'Yes'\n",
    "    cm = confusion_matrix(df.Decision.values, df.p.values)\n",
    "    tn, fp, fn, tp = cm.ravel()\n",
    "    tpr = tp / (tp + fn)\n",
    "    fpr = fp / (fp + tn)\n",
    "    roc_point.append([tpr,fpr])"
   ]
  },
  {
   "cell_type": "code",
   "execution_count": 17,
   "id": "b6e6391d",
   "metadata": {},
   "outputs": [],
   "source": [
    "openface_pivot = pd.DataFrame(roc_point,columns = ['tpr','fpr'])\n",
    "openface_pivot[\"threshold\"] = thresholds"
   ]
  },
  {
   "cell_type": "code",
   "execution_count": 18,
   "id": "8ed3bc7b",
   "metadata": {},
   "outputs": [
    {
     "data": {
      "text/plain": [
       "[<matplotlib.lines.Line2D at 0x170626e3b80>]"
      ]
     },
     "execution_count": 18,
     "metadata": {},
     "output_type": "execute_result"
    },
    {
     "data": {
      "image/png": "[encoded data removed]",
      "text/plain": [
       "<Figure size 432x288 with 1 Axes>"
      ]
     },
     "metadata": {
      "needs_background": "light"
     },
     "output_type": "display_data"
    }
   ],
   "source": [
    "plt.plot(openface_pivot.fpr,openface_pivot.tpr) #roc curve of openface using cosine distance"
   ]
  },
  {
   "cell_type": "code",
   "execution_count": 19,
   "id": "95813261",
   "metadata": {},
   "outputs": [
    {
     "data": {
      "text/plain": [
       "[<matplotlib.lines.Line2D at 0x17064a6f070>]"
      ]
     },
     "execution_count": 19,
     "metadata": {},
     "output_type": "execute_result"
    },
    {
     "data": {
      "image/png": "[encoded data removed]",
      "text/plain": [
       "<Figure size 432x288 with 1 Axes>"
      ]
     },
     "metadata": {
      "needs_background": "light"
     },
     "output_type": "display_data"
    }
   ],
   "source": [
    "plt.plot(openface_pivot.fpr,openface_pivot.tpr)\n",
    "plt.plot(facenet_pivot.fpr,facenet_pivot.tpr)"
   ]
  },
  {
   "cell_type": "markdown",
   "id": "cc81ef84",
   "metadata": {},
   "source": [
    "VGG-Face model cosine distance"
   ]
  },
  {
   "cell_type": "code",
   "execution_count": 20,
   "id": "7b110f50",
   "metadata": {},
   "outputs": [],
   "source": [
    "model_name = \"VGG-Face\"\n",
    "distance_metric = \"cosine\""
   ]
  },
  {
   "cell_type": "code",
   "execution_count": 21,
   "id": "31e5c3fc",
   "metadata": {},
   "outputs": [
    {
     "name": "stderr",
     "output_type": "stream",
     "text": [
      "Verification: 100%|██████████| 300/300 [26:16<00:00,  5.26s/it]\n"
     ]
    }
   ],
   "source": [
    "resp_obj = DeepFace.verify(instances, model_name = model_name, distance_metric = distance_metric)"
   ]
  },
  {
   "cell_type": "code",
   "execution_count": 22,
   "id": "90be704d",
   "metadata": {},
   "outputs": [
    {
     "name": "stdout",
     "output_type": "stream",
     "text": [
      "[INFO]:  2 CPU cores will be allocated in parallel running\n",
      "C4.5  tree is going to be built...\n",
      "-------------------------\n",
      "finished in  0.728996992111206  seconds\n",
      "-------------------------\n",
      "Evaluate  train set\n",
      "-------------------------\n",
      "Accuracy:  94.66666666666667 % on  300  instances\n",
      "Labels:  ['Yes' 'No']\n",
      "Confusion matrix:  [[22, 0], [16, 262]]\n",
      "Precision:  100.0 %, Recall:  57.8947 %, F1:  73.3333 %\n"
     ]
    }
   ],
   "source": [
    "distances = []\n",
    "for i in range(0, len(instances)):\n",
    "    distance = round(resp_obj[\"pair_%s\" % (i+1)][\"distance\"], 4)\n",
    "    distances.append(distance)\n",
    "df[\"distance\"] = distances\n",
    "config = {'algorithm': 'C4.5'}\n",
    "tmp_df = df[['distance', 'Decision']].rename(columns = {\"decision\": \"Decision\"}).copy()\n",
    "model = chef.fit(tmp_df, config)"
   ]
  },
  {
   "cell_type": "code",
   "execution_count": 28,
   "id": "44afd8a4",
   "metadata": {},
   "outputs": [],
   "source": [
    "threshold = 0.24518 #comes from c4.5 algorithm"
   ]
  },
  {
   "cell_type": "code",
   "execution_count": 29,
   "id": "35c92674",
   "metadata": {},
   "outputs": [],
   "source": [
    "df[\"prediction\"] = \"No\"\n",
    "idx = df[df.distance <= threshold].index\n",
    "df.loc[idx, 'prediction'] = 'Yes'\n",
    "df[\"p\"] = \"No\"\n",
    "roc_point=[]\n",
    "thresholds = list(np.array(list(range(1,100,1)))/100)\n",
    "for threshold in thresholds:\n",
    "    idx = df[df.distance <= threshold].index\n",
    "    df.loc[idx, 'p'] = 'Yes'\n",
    "    cm = confusion_matrix(df.Decision.values, df.p.values)\n",
    "    tn, fp, fn, tp = cm.ravel()\n",
    "    tpr = tp / (tp + fn)\n",
    "    fpr = fp / (fp + tn)\n",
    "    roc_point.append([tpr,fpr])"
   ]
  },
  {
   "cell_type": "code",
   "execution_count": 30,
   "id": "df6e41c7",
   "metadata": {},
   "outputs": [],
   "source": [
    "vggface_pivot = pd.DataFrame(roc_point,columns = ['tpr','fpr'])\n",
    "vggface_pivot[\"threshold\"] = thresholds"
   ]
  },
  {
   "cell_type": "code",
   "execution_count": 31,
   "id": "c0a9182a",
   "metadata": {},
   "outputs": [
    {
     "data": {
      "text/plain": [
       "[<matplotlib.lines.Line2D at 0x1706261b2b0>]"
      ]
     },
     "execution_count": 31,
     "metadata": {},
     "output_type": "execute_result"
    },
    {
     "data": {
      "image/png": "[encoded data removed]",
      "text/plain": [
       "<Figure size 432x288 with 1 Axes>"
      ]
     },
     "metadata": {
      "needs_background": "light"
     },
     "output_type": "display_data"
    }
   ],
   "source": [
    "plt.plot(vggface_pivot.fpr,vggface_pivot.tpr)"
   ]
  },
  {
   "cell_type": "code",
   "execution_count": 32,
   "id": "94ae4633",
   "metadata": {},
   "outputs": [
    {
     "data": {
      "image/png": "[encoded data removed]",
      "text/plain": [
       "<Figure size 432x288 with 1 Axes>"
      ]
     },
     "metadata": {
      "needs_background": "light"
     },
     "output_type": "display_data"
    }
   ],
   "source": [
    "plt.plot(facenet_pivot.fpr,facenet_pivot.tpr,label='Facenet')\n",
    "plt.plot(openface_pivot.fpr,openface_pivot.tpr,label='Openface')\n",
    "plt.plot(vggface_pivot.fpr,vggface_pivot.tpr,label='VGG-face')\n",
    "# Title\n",
    "plt.title('ROC Curve')\n",
    "# Axis labels\n",
    "plt.xlabel('False Positive Rate')\n",
    "plt.ylabel('True Positive Rate')\n",
    "# Show legend\n",
    "plt.legend() # \n",
    "# Show plot\n",
    "plt.show()"
   ]
  },
  {
   "cell_type": "code",
   "execution_count": null,
   "id": "85696e6f",
   "metadata": {},
   "outputs": [],
   "source": []
  }
 ],
 "metadata": {
  "kernelspec": {
   "display_name": "Python 3 (ipykernel)",
   "language": "python",
   "name": "python3"
  },
  "language_info": {
   "codemirror_mode": {
    "name": "ipython",
    "version": 3
   },
   "file_extension": ".py",
   "mimetype": "text/x-python",
   "name": "python",
   "nbconvert_exporter": "python",
   "pygments_lexer": "ipython3",
   "version": "3.9.6"
  }
 },
 "nbformat": 4,
 "nbformat_minor": 5
}
