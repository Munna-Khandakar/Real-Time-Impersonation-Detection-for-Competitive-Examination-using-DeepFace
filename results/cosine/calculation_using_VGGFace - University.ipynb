{
 "cells": [
  {
   "cell_type": "code",
   "execution_count": 7,
   "id": "9824572b",
   "metadata": {},
   "outputs": [],
   "source": [
    "import pandas as pd\n",
    "from deepface import DeepFace"
   ]
  },
  {
   "cell_type": "code",
   "execution_count": 8,
   "id": "37f93a20",
   "metadata": {},
   "outputs": [
    {
     "data": {
      "text/html": [
       "<div>\n",
       "<style scoped>\n",
       "    .dataframe tbody tr th:only-of-type {\n",
       "        vertical-align: middle;\n",
       "    }\n",
       "\n",
       "    .dataframe tbody tr th {\n",
       "        vertical-align: top;\n",
       "    }\n",
       "\n",
       "    .dataframe thead th {\n",
       "        text-align: right;\n",
       "    }\n",
       "</style>\n",
       "<table border=\"1\" class=\"dataframe\">\n",
       "  <thead>\n",
       "    <tr style=\"text-align: right;\">\n",
       "      <th></th>\n",
       "      <th>file_x</th>\n",
       "      <th>file_y</th>\n",
       "      <th>Decision</th>\n",
       "    </tr>\n",
       "  </thead>\n",
       "  <tbody>\n",
       "    <tr>\n",
       "      <th>0</th>\n",
       "      <td>1.jpg</td>\n",
       "      <td>2.jpg</td>\n",
       "      <td>No</td>\n",
       "    </tr>\n",
       "    <tr>\n",
       "      <th>1</th>\n",
       "      <td>1.jpg</td>\n",
       "      <td>3.jpg</td>\n",
       "      <td>No</td>\n",
       "    </tr>\n",
       "    <tr>\n",
       "      <th>2</th>\n",
       "      <td>1.jpg</td>\n",
       "      <td>32.jpg</td>\n",
       "      <td>Yes</td>\n",
       "    </tr>\n",
       "    <tr>\n",
       "      <th>3</th>\n",
       "      <td>2.jpg</td>\n",
       "      <td>3.jpg</td>\n",
       "      <td>No</td>\n",
       "    </tr>\n",
       "    <tr>\n",
       "      <th>4</th>\n",
       "      <td>2.jpg</td>\n",
       "      <td>33.jpg</td>\n",
       "      <td>Yes</td>\n",
       "    </tr>\n",
       "  </tbody>\n",
       "</table>\n",
       "</div>"
      ],
      "text/plain": [
       "  file_x  file_y Decision\n",
       "0  1.jpg   2.jpg       No\n",
       "1  1.jpg   3.jpg       No\n",
       "2  1.jpg  32.jpg      Yes\n",
       "3  2.jpg   3.jpg       No\n",
       "4  2.jpg  33.jpg      Yes"
      ]
     },
     "execution_count": 8,
     "metadata": {},
     "output_type": "execute_result"
    }
   ],
   "source": [
    "df = pd.read_csv('../../dataset/Labeled Faces in the University Students Dataset/master.csv')\n",
    "df.head()"
   ]
  },
  {
   "cell_type": "code",
   "execution_count": 9,
   "id": "c523d463",
   "metadata": {},
   "outputs": [],
   "source": [
    "df['file_x'] = '../../dataset/Labeled Faces in the University Students Dataset/' + df['file_x'].astype(str)\n",
    "df['file_y'] = '../../dataset/Labeled Faces in the University Students Dataset/' + df['file_y'].astype(str)"
   ]
  },
  {
   "cell_type": "code",
   "execution_count": 10,
   "id": "a04ada25",
   "metadata": {},
   "outputs": [
    {
     "data": {
      "text/plain": [
       "[['../../dataset/Labeled Faces in the University Students Dataset/1.jpg',\n",
       "  '../../dataset/Labeled Faces in the University Students Dataset/2.jpg'],\n",
       " ['../../dataset/Labeled Faces in the University Students Dataset/1.jpg',\n",
       "  '../../dataset/Labeled Faces in the University Students Dataset/3.jpg'],\n",
       " ['../../dataset/Labeled Faces in the University Students Dataset/1.jpg',\n",
       "  '../../dataset/Labeled Faces in the University Students Dataset/32.jpg'],\n",
       " ['../../dataset/Labeled Faces in the University Students Dataset/2.jpg',\n",
       "  '../../dataset/Labeled Faces in the University Students Dataset/3.jpg'],\n",
       " ['../../dataset/Labeled Faces in the University Students Dataset/2.jpg',\n",
       "  '../../dataset/Labeled Faces in the University Students Dataset/33.jpg'],\n",
       " ['../../dataset/Labeled Faces in the University Students Dataset/2.jpg',\n",
       "  '../../dataset/Labeled Faces in the University Students Dataset/5.jpg'],\n",
       " ['../../dataset/Labeled Faces in the University Students Dataset/3.jpg',\n",
       "  '../../dataset/Labeled Faces in the University Students Dataset/35.jpg'],\n",
       " ['../../dataset/Labeled Faces in the University Students Dataset/3.jpg',\n",
       "  '../../dataset/Labeled Faces in the University Students Dataset/5.jpg'],\n",
       " ['../../dataset/Labeled Faces in the University Students Dataset/3.jpg',\n",
       "  '../../dataset/Labeled Faces in the University Students Dataset/34.jpg'],\n",
       " ['../../dataset/Labeled Faces in the University Students Dataset/8.jpg',\n",
       "  '../../dataset/Labeled Faces in the University Students Dataset/5.jpg'],\n",
       " ['../../dataset/Labeled Faces in the University Students Dataset/8.jpg',\n",
       "  '../../dataset/Labeled Faces in the University Students Dataset/11.jpg'],\n",
       " ['../../dataset/Labeled Faces in the University Students Dataset/8.jpg',\n",
       "  '../../dataset/Labeled Faces in the University Students Dataset/17.jpg'],\n",
       " ['../../dataset/Labeled Faces in the University Students Dataset/31.jpg',\n",
       "  '../../dataset/Labeled Faces in the University Students Dataset/44.jpg'],\n",
       " ['../../dataset/Labeled Faces in the University Students Dataset/26.jpg',\n",
       "  '../../dataset/Labeled Faces in the University Students Dataset/28.jpg'],\n",
       " ['../../dataset/Labeled Faces in the University Students Dataset/24.jpg',\n",
       "  '../../dataset/Labeled Faces in the University Students Dataset/41.jpg'],\n",
       " ['../../dataset/Labeled Faces in the University Students Dataset/43.jpg',\n",
       "  '../../dataset/Labeled Faces in the University Students Dataset/42.jpg'],\n",
       " ['../../dataset/Labeled Faces in the University Students Dataset/40.jpg',\n",
       "  '../../dataset/Labeled Faces in the University Students Dataset/35.jpg'],\n",
       " ['../../dataset/Labeled Faces in the University Students Dataset/33.jpg',\n",
       "  '../../dataset/Labeled Faces in the University Students Dataset/2.jpg'],\n",
       " ['../../dataset/Labeled Faces in the University Students Dataset/20.jpg',\n",
       "  '../../dataset/Labeled Faces in the University Students Dataset/36.jpg'],\n",
       " ['../../dataset/Labeled Faces in the University Students Dataset/36.jpg',\n",
       "  '../../dataset/Labeled Faces in the University Students Dataset/17.jpg'],\n",
       " ['../../dataset/Labeled Faces in the University Students Dataset/39.jpg',\n",
       "  '../../dataset/Labeled Faces in the University Students Dataset/8.jpg'],\n",
       " ['../../dataset/Labeled Faces in the University Students Dataset/26.jpg',\n",
       "  '../../dataset/Labeled Faces in the University Students Dataset/28.jpg'],\n",
       " ['../../dataset/Labeled Faces in the University Students Dataset/2.jpg',\n",
       "  '../../dataset/Labeled Faces in the University Students Dataset/37.jpg'],\n",
       " ['../../dataset/Labeled Faces in the University Students Dataset/44.jpg',\n",
       "  '../../dataset/Labeled Faces in the University Students Dataset/14.jpg'],\n",
       " ['../../dataset/Labeled Faces in the University Students Dataset/35.jpg',\n",
       "  '../../dataset/Labeled Faces in the University Students Dataset/32.jpg'],\n",
       " ['../../dataset/Labeled Faces in the University Students Dataset/40.jpg',\n",
       "  '../../dataset/Labeled Faces in the University Students Dataset/39.jpg'],\n",
       " ['../../dataset/Labeled Faces in the University Students Dataset/14.jpg',\n",
       "  '../../dataset/Labeled Faces in the University Students Dataset/17.jpg'],\n",
       " ['../../dataset/Labeled Faces in the University Students Dataset/36.jpg',\n",
       "  '../../dataset/Labeled Faces in the University Students Dataset/5.jpg'],\n",
       " ['../../dataset/Labeled Faces in the University Students Dataset/24.jpg',\n",
       "  '../../dataset/Labeled Faces in the University Students Dataset/41.jpg'],\n",
       " ['../../dataset/Labeled Faces in the University Students Dataset/3.jpg',\n",
       "  '../../dataset/Labeled Faces in the University Students Dataset/34.jpg'],\n",
       " ['../../dataset/Labeled Faces in the University Students Dataset/37.jpg',\n",
       "  '../../dataset/Labeled Faces in the University Students Dataset/14.jpg'],\n",
       " ['../../dataset/Labeled Faces in the University Students Dataset/44.jpg',\n",
       "  '../../dataset/Labeled Faces in the University Students Dataset/36.jpg'],\n",
       " ['../../dataset/Labeled Faces in the University Students Dataset/3.jpg',\n",
       "  '../../dataset/Labeled Faces in the University Students Dataset/5.jpg'],\n",
       " ['../../dataset/Labeled Faces in the University Students Dataset/32.jpg',\n",
       "  '../../dataset/Labeled Faces in the University Students Dataset/36.jpg'],\n",
       " ['../../dataset/Labeled Faces in the University Students Dataset/38.jpg',\n",
       "  '../../dataset/Labeled Faces in the University Students Dataset/33.jpg'],\n",
       " ['../../dataset/Labeled Faces in the University Students Dataset/28.jpg',\n",
       "  '../../dataset/Labeled Faces in the University Students Dataset/26.jpg'],\n",
       " ['../../dataset/Labeled Faces in the University Students Dataset/40.jpg',\n",
       "  '../../dataset/Labeled Faces in the University Students Dataset/17.jpg'],\n",
       " ['../../dataset/Labeled Faces in the University Students Dataset/35.jpg',\n",
       "  '../../dataset/Labeled Faces in the University Students Dataset/5.jpg'],\n",
       " ['../../dataset/Labeled Faces in the University Students Dataset/32.jpg',\n",
       "  '../../dataset/Labeled Faces in the University Students Dataset/1.jpg'],\n",
       " ['../../dataset/Labeled Faces in the University Students Dataset/2.jpg',\n",
       "  '../../dataset/Labeled Faces in the University Students Dataset/33.jpg'],\n",
       " ['../../dataset/Labeled Faces in the University Students Dataset/5.jpg',\n",
       "  '../../dataset/Labeled Faces in the University Students Dataset/35.jpg'],\n",
       " ['../../dataset/Labeled Faces in the University Students Dataset/8.jpg',\n",
       "  '../../dataset/Labeled Faces in the University Students Dataset/39.jpg'],\n",
       " ['../../dataset/Labeled Faces in the University Students Dataset/44.jpg',\n",
       "  '../../dataset/Labeled Faces in the University Students Dataset/40.jpg'],\n",
       " ['../../dataset/Labeled Faces in the University Students Dataset/38.jpg',\n",
       "  '../../dataset/Labeled Faces in the University Students Dataset/31.jpg']]"
      ]
     },
     "execution_count": 10,
     "metadata": {},
     "output_type": "execute_result"
    }
   ],
   "source": [
    "instances = df[[\"file_x\", \"file_y\"]].values.tolist()\n",
    "instances"
   ]
  },
  {
   "cell_type": "code",
   "execution_count": 11,
   "id": "a7c34456",
   "metadata": {},
   "outputs": [],
   "source": [
    "model_name = \"VGG-Face\"\n",
    "distance_metric = \"cosine\""
   ]
  },
  {
   "cell_type": "code",
   "execution_count": 12,
   "id": "a0e57a9f",
   "metadata": {},
   "outputs": [
    {
     "name": "stderr",
     "output_type": "stream",
     "text": [
      "Verification: 100%|██████████| 44/44 [24:12<00:00, 33.02s/it]\n"
     ]
    }
   ],
   "source": [
    "resp_obj = DeepFace.verify(instances, model_name = model_name, distance_metric = distance_metric)"
   ]
  },
  {
   "cell_type": "code",
   "execution_count": 13,
   "id": "9df5bbb1",
   "metadata": {},
   "outputs": [],
   "source": [
    "distances = []\n",
    "for i in range(0, len(instances)):\n",
    "    distance = round(resp_obj[\"pair_%s\" % (i+1)][\"distance\"], 4)\n",
    "    distances.append(distance)"
   ]
  },
  {
   "cell_type": "code",
   "execution_count": 14,
   "id": "f25ab5da",
   "metadata": {},
   "outputs": [
    {
     "data": {
      "text/html": [
       "<div>\n",
       "<style scoped>\n",
       "    .dataframe tbody tr th:only-of-type {\n",
       "        vertical-align: middle;\n",
       "    }\n",
       "\n",
       "    .dataframe tbody tr th {\n",
       "        vertical-align: top;\n",
       "    }\n",
       "\n",
       "    .dataframe thead th {\n",
       "        text-align: right;\n",
       "    }\n",
       "</style>\n",
       "<table border=\"1\" class=\"dataframe\">\n",
       "  <thead>\n",
       "    <tr style=\"text-align: right;\">\n",
       "      <th></th>\n",
       "      <th>file_x</th>\n",
       "      <th>file_y</th>\n",
       "      <th>Decision</th>\n",
       "      <th>distance</th>\n",
       "    </tr>\n",
       "  </thead>\n",
       "  <tbody>\n",
       "    <tr>\n",
       "      <th>0</th>\n",
       "      <td>../../dataset/Labeled Faces in the University ...</td>\n",
       "      <td>../../dataset/Labeled Faces in the University ...</td>\n",
       "      <td>No</td>\n",
       "      <td>0.5967</td>\n",
       "    </tr>\n",
       "    <tr>\n",
       "      <th>1</th>\n",
       "      <td>../../dataset/Labeled Faces in the University ...</td>\n",
       "      <td>../../dataset/Labeled Faces in the University ...</td>\n",
       "      <td>No</td>\n",
       "      <td>0.5221</td>\n",
       "    </tr>\n",
       "    <tr>\n",
       "      <th>2</th>\n",
       "      <td>../../dataset/Labeled Faces in the University ...</td>\n",
       "      <td>../../dataset/Labeled Faces in the University ...</td>\n",
       "      <td>Yes</td>\n",
       "      <td>-0.0000</td>\n",
       "    </tr>\n",
       "    <tr>\n",
       "      <th>3</th>\n",
       "      <td>../../dataset/Labeled Faces in the University ...</td>\n",
       "      <td>../../dataset/Labeled Faces in the University ...</td>\n",
       "      <td>No</td>\n",
       "      <td>0.6545</td>\n",
       "    </tr>\n",
       "    <tr>\n",
       "      <th>4</th>\n",
       "      <td>../../dataset/Labeled Faces in the University ...</td>\n",
       "      <td>../../dataset/Labeled Faces in the University ...</td>\n",
       "      <td>Yes</td>\n",
       "      <td>0.0000</td>\n",
       "    </tr>\n",
       "  </tbody>\n",
       "</table>\n",
       "</div>"
      ],
      "text/plain": [
       "                                              file_x  \\\n",
       "0  ../../dataset/Labeled Faces in the University ...   \n",
       "1  ../../dataset/Labeled Faces in the University ...   \n",
       "2  ../../dataset/Labeled Faces in the University ...   \n",
       "3  ../../dataset/Labeled Faces in the University ...   \n",
       "4  ../../dataset/Labeled Faces in the University ...   \n",
       "\n",
       "                                              file_y Decision  distance  \n",
       "0  ../../dataset/Labeled Faces in the University ...       No    0.5967  \n",
       "1  ../../dataset/Labeled Faces in the University ...       No    0.5221  \n",
       "2  ../../dataset/Labeled Faces in the University ...      Yes   -0.0000  \n",
       "3  ../../dataset/Labeled Faces in the University ...       No    0.6545  \n",
       "4  ../../dataset/Labeled Faces in the University ...      Yes    0.0000  "
      ]
     },
     "execution_count": 14,
     "metadata": {},
     "output_type": "execute_result"
    }
   ],
   "source": [
    "df[\"distance\"] = distances\n",
    "df.head()"
   ]
  },
  {
   "cell_type": "code",
   "execution_count": 15,
   "id": "ef4284c4",
   "metadata": {},
   "outputs": [],
   "source": [
    "#!pip3 install scipy"
   ]
  },
  {
   "cell_type": "code",
   "execution_count": 16,
   "id": "83db9207",
   "metadata": {},
   "outputs": [
    {
     "data": {
      "text/plain": [
       "<AxesSubplot:ylabel='Density'>"
      ]
     },
     "execution_count": 16,
     "metadata": {},
     "output_type": "execute_result"
    },
    {
     "data": {
      "image/png": "[encoded data removed]",
      "text/plain": [
       "<Figure size 432x288 with 1 Axes>"
      ]
     },
     "metadata": {
      "needs_background": "light"
     },
     "output_type": "display_data"
    }
   ],
   "source": [
    "df[df.Decision == \"Yes\"].distance.plot.kde()\n",
    "df[df.Decision == \"No\"].distance.plot.kde()"
   ]
  },
  {
   "cell_type": "code",
   "execution_count": 17,
   "id": "887debaf",
   "metadata": {},
   "outputs": [],
   "source": [
    "#!pip install chefboost\n",
    "from chefboost import Chefboost as chef"
   ]
  },
  {
   "cell_type": "code",
   "execution_count": 18,
   "id": "5266fea9",
   "metadata": {},
   "outputs": [],
   "source": [
    "config = {'algorithm': 'C4.5'}"
   ]
  },
  {
   "cell_type": "code",
   "execution_count": 19,
   "id": "00de7195",
   "metadata": {},
   "outputs": [
    {
     "name": "stdout",
     "output_type": "stream",
     "text": [
      "[INFO]:  2 CPU cores will be allocated in parallel running\n",
      "C4.5  tree is going to be built...\n",
      "-------------------------\n",
      "finished in  0.410001277923584  seconds\n",
      "-------------------------\n",
      "Evaluate  train set\n",
      "-------------------------\n",
      "Accuracy:  88.63636363636364 % on  44  instances\n",
      "Labels:  ['No' 'Yes']\n",
      "Confusion matrix:  [[21, 3], [2, 18]]\n",
      "Precision:  87.5 %, Recall:  91.3043 %, F1:  89.3617 %\n"
     ]
    }
   ],
   "source": [
    "tmp_df = df[['distance', 'Decision']].rename(columns = {\"decision\": \"Decision\"}).copy()\n",
    "model = chef.fit(tmp_df, config)"
   ]
  },
  {
   "cell_type": "code",
   "execution_count": 20,
   "id": "d7dc83f2",
   "metadata": {},
   "outputs": [],
   "source": [
    "threshold = 0.33715 #comes from c4.5 algorithm"
   ]
  },
  {
   "cell_type": "code",
   "execution_count": 21,
   "id": "34f6807c",
   "metadata": {},
   "outputs": [],
   "source": [
    "df[\"prediction\"] = \"No\""
   ]
  },
  {
   "cell_type": "code",
   "execution_count": 22,
   "id": "3a9dae51",
   "metadata": {},
   "outputs": [],
   "source": [
    "idx = df[df.distance <= threshold].index\n",
    "df.loc[idx, 'prediction'] = 'Yes'"
   ]
  },
  {
   "cell_type": "code",
   "execution_count": 23,
   "id": "ea05b2d6",
   "metadata": {},
   "outputs": [
    {
     "data": {
      "text/html": [
       "<div>\n",
       "<style scoped>\n",
       "    .dataframe tbody tr th:only-of-type {\n",
       "        vertical-align: middle;\n",
       "    }\n",
       "\n",
       "    .dataframe tbody tr th {\n",
       "        vertical-align: top;\n",
       "    }\n",
       "\n",
       "    .dataframe thead th {\n",
       "        text-align: right;\n",
       "    }\n",
       "</style>\n",
       "<table border=\"1\" class=\"dataframe\">\n",
       "  <thead>\n",
       "    <tr style=\"text-align: right;\">\n",
       "      <th></th>\n",
       "      <th>file_x</th>\n",
       "      <th>file_y</th>\n",
       "      <th>Decision</th>\n",
       "      <th>distance</th>\n",
       "      <th>prediction</th>\n",
       "    </tr>\n",
       "  </thead>\n",
       "  <tbody>\n",
       "    <tr>\n",
       "      <th>39</th>\n",
       "      <td>../../dataset/Labeled Faces in the University ...</td>\n",
       "      <td>../../dataset/Labeled Faces in the University ...</td>\n",
       "      <td>Yes</td>\n",
       "      <td>0.7291</td>\n",
       "      <td>No</td>\n",
       "    </tr>\n",
       "    <tr>\n",
       "      <th>10</th>\n",
       "      <td>../../dataset/Labeled Faces in the University ...</td>\n",
       "      <td>../../dataset/Labeled Faces in the University ...</td>\n",
       "      <td>No</td>\n",
       "      <td>0.6027</td>\n",
       "      <td>No</td>\n",
       "    </tr>\n",
       "    <tr>\n",
       "      <th>25</th>\n",
       "      <td>../../dataset/Labeled Faces in the University ...</td>\n",
       "      <td>../../dataset/Labeled Faces in the University ...</td>\n",
       "      <td>No</td>\n",
       "      <td>0.7850</td>\n",
       "      <td>No</td>\n",
       "    </tr>\n",
       "    <tr>\n",
       "      <th>19</th>\n",
       "      <td>../../dataset/Labeled Faces in the University ...</td>\n",
       "      <td>../../dataset/Labeled Faces in the University ...</td>\n",
       "      <td>No</td>\n",
       "      <td>0.6171</td>\n",
       "      <td>No</td>\n",
       "    </tr>\n",
       "    <tr>\n",
       "      <th>22</th>\n",
       "      <td>../../dataset/Labeled Faces in the University ...</td>\n",
       "      <td>../../dataset/Labeled Faces in the University ...</td>\n",
       "      <td>No</td>\n",
       "      <td>0.0981</td>\n",
       "      <td>Yes</td>\n",
       "    </tr>\n",
       "  </tbody>\n",
       "</table>\n",
       "</div>"
      ],
      "text/plain": [
       "                                               file_x  \\\n",
       "39  ../../dataset/Labeled Faces in the University ...   \n",
       "10  ../../dataset/Labeled Faces in the University ...   \n",
       "25  ../../dataset/Labeled Faces in the University ...   \n",
       "19  ../../dataset/Labeled Faces in the University ...   \n",
       "22  ../../dataset/Labeled Faces in the University ...   \n",
       "\n",
       "                                               file_y Decision  distance  \\\n",
       "39  ../../dataset/Labeled Faces in the University ...      Yes    0.7291   \n",
       "10  ../../dataset/Labeled Faces in the University ...       No    0.6027   \n",
       "25  ../../dataset/Labeled Faces in the University ...       No    0.7850   \n",
       "19  ../../dataset/Labeled Faces in the University ...       No    0.6171   \n",
       "22  ../../dataset/Labeled Faces in the University ...       No    0.0981   \n",
       "\n",
       "   prediction  \n",
       "39         No  \n",
       "10         No  \n",
       "25         No  \n",
       "19         No  \n",
       "22        Yes  "
      ]
     },
     "execution_count": 23,
     "metadata": {},
     "output_type": "execute_result"
    }
   ],
   "source": [
    "df.sample(5)"
   ]
  },
  {
   "cell_type": "code",
   "execution_count": 24,
   "id": "cbbef4ce",
   "metadata": {},
   "outputs": [],
   "source": [
    "#!pip install scikit-learn\n",
    "\n",
    "from sklearn.metrics import confusion_matrix,roc_curve,auc"
   ]
  },
  {
   "cell_type": "code",
   "execution_count": 25,
   "id": "edf16ad9",
   "metadata": {},
   "outputs": [],
   "source": [
    "cm = confusion_matrix(df.Decision.values, df.prediction.values)"
   ]
  },
  {
   "cell_type": "code",
   "execution_count": 26,
   "id": "213d574b",
   "metadata": {},
   "outputs": [],
   "source": [
    "tn, fp, fn, tp = cm.ravel()"
   ]
  },
  {
   "cell_type": "code",
   "execution_count": 27,
   "id": "ec479bf8",
   "metadata": {},
   "outputs": [
    {
     "data": {
      "text/plain": [
       "(21, 2, 3, 18)"
      ]
     },
     "execution_count": 27,
     "metadata": {},
     "output_type": "execute_result"
    }
   ],
   "source": [
    "tn, fp, fn, tp"
   ]
  },
  {
   "cell_type": "code",
   "execution_count": 28,
   "id": "da3e7d9d",
   "metadata": {},
   "outputs": [],
   "source": [
    "recall = tp / (tp + fn)\n",
    "precision = tp / (tp + fp)\n",
    "accuracy = (tp + tn)/(tn + fp +  fn + tp)\n",
    "f1 = 2 * (precision * recall) / (precision + recall)"
   ]
  },
  {
   "cell_type": "code",
   "execution_count": 31,
   "id": "ccd39265",
   "metadata": {},
   "outputs": [
    {
     "name": "stdout",
     "output_type": "stream",
     "text": [
      "Precision:  100.0 %\n",
      "Recall:  57.89473684210527 %\n",
      "F1 score  73.33333333333334 %\n",
      "Accuracy:  94.66666666666667 %\n"
     ]
    }
   ],
   "source": [
    "print(\"Precision: \", 100*precision,\"%\")\n",
    "print(\"Recall: \", 100*recall,\"%\")\n",
    "print(\"F1 score \",100*f1, \"%\")\n",
    "print(\"Accuracy: \", 100*accuracy,\"%\")"
   ]
  },
  {
   "cell_type": "code",
   "execution_count": 36,
   "id": "3c73bb37",
   "metadata": {},
   "outputs": [],
   "source": [
    "import numpy as np\n",
    "import matplotlib.pyplot as plt"
   ]
  },
  {
   "cell_type": "code",
   "execution_count": 37,
   "id": "4f0f4eaf",
   "metadata": {},
   "outputs": [],
   "source": [
    "df[\"p\"] = \"No\"\n",
    "roc_point=[]"
   ]
  },
  {
   "cell_type": "code",
   "execution_count": 38,
   "id": "a0c692d9",
   "metadata": {},
   "outputs": [
    {
     "data": {
      "text/plain": [
       "[[0.6666666666666666, 0.9333333333333333],\n",
       " [0.6666666666666666, 0.9333333333333333],\n",
       " [0.8571428571428571, 0.9473684210526315],\n",
       " [0.8571428571428571, 0.9473684210526315],\n",
       " [0.8571428571428571, 0.9473684210526315],\n",
       " [0.8571428571428571, 0.9473684210526315],\n",
       " [0.8571428571428571, 0.9473684210526315],\n",
       " [0.8571428571428571, 0.9473684210526315],\n",
       " [0.8571428571428571, 0.9473684210526315],\n",
       " [0.8571428571428571, 0.9],\n",
       " [0.8571428571428571, 0.9],\n",
       " [0.8571428571428571, 0.9],\n",
       " [0.8571428571428571, 0.9],\n",
       " [0.8571428571428571, 0.9],\n",
       " [0.8571428571428571, 0.9],\n",
       " [0.8571428571428571, 0.9],\n",
       " [0.8571428571428571, 0.9],\n",
       " [0.8571428571428571, 0.9],\n",
       " [0.8571428571428571, 0.9],\n",
       " [0.8571428571428571, 0.9],\n",
       " [0.8571428571428571, 0.9],\n",
       " [0.8571428571428571, 0.9],\n",
       " [0.8571428571428571, 0.9],\n",
       " [0.8571428571428571, 0.9],\n",
       " [0.8571428571428571, 0.9],\n",
       " [0.8571428571428571, 0.9],\n",
       " [0.8571428571428571, 0.9],\n",
       " [0.8571428571428571, 0.9],\n",
       " [0.8571428571428571, 0.9],\n",
       " [0.8571428571428571, 0.9],\n",
       " [0.8571428571428571, 0.9],\n",
       " [0.8571428571428571, 0.9],\n",
       " [0.8571428571428571, 0.9],\n",
       " [0.8571428571428571, 0.9],\n",
       " [0.8571428571428571, 0.9],\n",
       " [0.8571428571428571, 0.8571428571428571],\n",
       " [0.8571428571428571, 0.8181818181818182],\n",
       " [0.8571428571428571, 0.8181818181818182],\n",
       " [0.8571428571428571, 0.8181818181818182],\n",
       " [0.8571428571428571, 0.8181818181818182],\n",
       " [0.8571428571428571, 0.8181818181818182],\n",
       " [0.8571428571428571, 0.8181818181818182],\n",
       " [0.8571428571428571, 0.8181818181818182],\n",
       " [0.8571428571428571, 0.782608695652174],\n",
       " [0.8571428571428571, 0.782608695652174],\n",
       " [0.9047619047619048, 0.7037037037037037],\n",
       " [0.9047619047619048, 0.7037037037037037],\n",
       " [0.9047619047619048, 0.7037037037037037],\n",
       " [0.9047619047619048, 0.7037037037037037],\n",
       " [0.9047619047619048, 0.6785714285714286],\n",
       " [0.9047619047619048, 0.6785714285714286],\n",
       " [0.9047619047619048, 0.6785714285714286],\n",
       " [0.9047619047619048, 0.6551724137931034],\n",
       " [0.9047619047619048, 0.6551724137931034],\n",
       " [0.9047619047619048, 0.6551724137931034],\n",
       " [0.9047619047619048, 0.6551724137931034],\n",
       " [0.9047619047619048, 0.6551724137931034],\n",
       " [0.9047619047619048, 0.6333333333333333],\n",
       " [0.9047619047619048, 0.6333333333333333],\n",
       " [0.9047619047619048, 0.6129032258064516],\n",
       " [0.9047619047619048, 0.59375],\n",
       " [0.9047619047619048, 0.5757575757575758],\n",
       " [0.9047619047619048, 0.5757575757575758],\n",
       " [0.9047619047619048, 0.5757575757575758],\n",
       " [0.9047619047619048, 0.5588235294117647],\n",
       " [0.9047619047619048, 0.5428571428571428],\n",
       " [0.9047619047619048, 0.5428571428571428],\n",
       " [0.9047619047619048, 0.5428571428571428],\n",
       " [0.9047619047619048, 0.5428571428571428],\n",
       " [0.9047619047619048, 0.5428571428571428],\n",
       " [0.9047619047619048, 0.5428571428571428],\n",
       " [0.9047619047619048, 0.5277777777777778],\n",
       " [0.9523809523809523, 0.5263157894736842],\n",
       " [0.9523809523809523, 0.5263157894736842],\n",
       " [0.9523809523809523, 0.5263157894736842],\n",
       " [0.9523809523809523, 0.5263157894736842],\n",
       " [0.9523809523809523, 0.5128205128205128],\n",
       " [0.9523809523809523, 0.5128205128205128],\n",
       " [0.9523809523809523, 0.4878048780487805],\n",
       " [0.9523809523809523, 0.47619047619047616],\n",
       " [0.9523809523809523, 0.47619047619047616],\n",
       " [0.9523809523809523, 0.47619047619047616],\n",
       " [0.9523809523809523, 0.46511627906976744],\n",
       " [0.9523809523809523, 0.46511627906976744],\n",
       " [1.0, 0.4772727272727273],\n",
       " [1.0, 0.4772727272727273],\n",
       " [1.0, 0.4772727272727273],\n",
       " [1.0, 0.4772727272727273],\n",
       " [1.0, 0.4772727272727273],\n",
       " [1.0, 0.4772727272727273],\n",
       " [1.0, 0.4772727272727273],\n",
       " [1.0, 0.4772727272727273],\n",
       " [1.0, 0.4772727272727273],\n",
       " [1.0, 0.4772727272727273],\n",
       " [1.0, 0.4772727272727273],\n",
       " [1.0, 0.4772727272727273],\n",
       " [1.0, 0.4772727272727273],\n",
       " [1.0, 0.4772727272727273],\n",
       " [1.0, 0.4772727272727273]]"
      ]
     },
     "execution_count": 38,
     "metadata": {},
     "output_type": "execute_result"
    }
   ],
   "source": [
    "thresholds = list(np.array(list(range(1,100,1)))/100)\n",
    "for threshold in thresholds:\n",
    "    idx = df[df.distance <= threshold].index\n",
    "    df.loc[idx, 'p'] = 'Yes'\n",
    "    cm = confusion_matrix(df.Decision.values, df.p.values)\n",
    "    tn, fp, fn, tp = cm.ravel()\n",
    "    tpr = tp / (tp + fn)\n",
    "    fpr = tp / (tp + fp)\n",
    "    roc_point.append([tpr,fpr])\n",
    "roc_point"
   ]
  },
  {
   "cell_type": "code",
   "execution_count": 39,
   "id": "8c53c47c",
   "metadata": {},
   "outputs": [
    {
     "data": {
      "text/html": [
       "<div>\n",
       "<style scoped>\n",
       "    .dataframe tbody tr th:only-of-type {\n",
       "        vertical-align: middle;\n",
       "    }\n",
       "\n",
       "    .dataframe tbody tr th {\n",
       "        vertical-align: top;\n",
       "    }\n",
       "\n",
       "    .dataframe thead th {\n",
       "        text-align: right;\n",
       "    }\n",
       "</style>\n",
       "<table border=\"1\" class=\"dataframe\">\n",
       "  <thead>\n",
       "    <tr style=\"text-align: right;\">\n",
       "      <th></th>\n",
       "      <th>tpr</th>\n",
       "      <th>fpr</th>\n",
       "      <th>threshold</th>\n",
       "    </tr>\n",
       "  </thead>\n",
       "  <tbody>\n",
       "    <tr>\n",
       "      <th>0</th>\n",
       "      <td>0.666667</td>\n",
       "      <td>0.933333</td>\n",
       "      <td>0.01</td>\n",
       "    </tr>\n",
       "    <tr>\n",
       "      <th>1</th>\n",
       "      <td>0.666667</td>\n",
       "      <td>0.933333</td>\n",
       "      <td>0.02</td>\n",
       "    </tr>\n",
       "    <tr>\n",
       "      <th>2</th>\n",
       "      <td>0.857143</td>\n",
       "      <td>0.947368</td>\n",
       "      <td>0.03</td>\n",
       "    </tr>\n",
       "    <tr>\n",
       "      <th>3</th>\n",
       "      <td>0.857143</td>\n",
       "      <td>0.947368</td>\n",
       "      <td>0.04</td>\n",
       "    </tr>\n",
       "    <tr>\n",
       "      <th>4</th>\n",
       "      <td>0.857143</td>\n",
       "      <td>0.947368</td>\n",
       "      <td>0.05</td>\n",
       "    </tr>\n",
       "    <tr>\n",
       "      <th>...</th>\n",
       "      <td>...</td>\n",
       "      <td>...</td>\n",
       "      <td>...</td>\n",
       "    </tr>\n",
       "    <tr>\n",
       "      <th>94</th>\n",
       "      <td>1.000000</td>\n",
       "      <td>0.477273</td>\n",
       "      <td>0.95</td>\n",
       "    </tr>\n",
       "    <tr>\n",
       "      <th>95</th>\n",
       "      <td>1.000000</td>\n",
       "      <td>0.477273</td>\n",
       "      <td>0.96</td>\n",
       "    </tr>\n",
       "    <tr>\n",
       "      <th>96</th>\n",
       "      <td>1.000000</td>\n",
       "      <td>0.477273</td>\n",
       "      <td>0.97</td>\n",
       "    </tr>\n",
       "    <tr>\n",
       "      <th>97</th>\n",
       "      <td>1.000000</td>\n",
       "      <td>0.477273</td>\n",
       "      <td>0.98</td>\n",
       "    </tr>\n",
       "    <tr>\n",
       "      <th>98</th>\n",
       "      <td>1.000000</td>\n",
       "      <td>0.477273</td>\n",
       "      <td>0.99</td>\n",
       "    </tr>\n",
       "  </tbody>\n",
       "</table>\n",
       "<p>99 rows × 3 columns</p>\n",
       "</div>"
      ],
      "text/plain": [
       "         tpr       fpr  threshold\n",
       "0   0.666667  0.933333       0.01\n",
       "1   0.666667  0.933333       0.02\n",
       "2   0.857143  0.947368       0.03\n",
       "3   0.857143  0.947368       0.04\n",
       "4   0.857143  0.947368       0.05\n",
       "..       ...       ...        ...\n",
       "94  1.000000  0.477273       0.95\n",
       "95  1.000000  0.477273       0.96\n",
       "96  1.000000  0.477273       0.97\n",
       "97  1.000000  0.477273       0.98\n",
       "98  1.000000  0.477273       0.99\n",
       "\n",
       "[99 rows x 3 columns]"
      ]
     },
     "execution_count": 39,
     "metadata": {},
     "output_type": "execute_result"
    }
   ],
   "source": [
    "pivot = pd.DataFrame(roc_point,columns = ['tpr','fpr'])\n",
    "pivot[\"threshold\"] = thresholds\n",
    "pivot  "
   ]
  },
  {
   "cell_type": "code",
   "execution_count": 40,
   "id": "b11705c7",
   "metadata": {},
   "outputs": [
    {
     "data": {
      "text/plain": [
       "[<matplotlib.lines.Line2D at 0x216c685c1f0>]"
      ]
     },
     "execution_count": 40,
     "metadata": {},
     "output_type": "execute_result"
    },
    {
     "data": {
      "image/png": "[encoded data removed]",
      "text/plain": [
       "<Figure size 432x288 with 1 Axes>"
      ]
     },
     "metadata": {
      "needs_background": "light"
     },
     "output_type": "display_data"
    }
   ],
   "source": [
    "plt.plot(pivot.fpr,pivot.tpr)"
   ]
  },
  {
   "cell_type": "code",
   "execution_count": null,
   "id": "d90ccf8f",
   "metadata": {},
   "outputs": [],
   "source": []
  },
  {
   "cell_type": "code",
   "execution_count": null,
   "id": "57a72a2b",
   "metadata": {},
   "outputs": [],
   "source": []
  }
 ],
 "metadata": {
  "kernelspec": {
   "display_name": "Python 3 (ipykernel)",
   "language": "python",
   "name": "python3"
  },
  "language_info": {
   "codemirror_mode": {
    "name": "ipython",
    "version": 3
   },
   "file_extension": ".py",
   "mimetype": "text/x-python",
   "name": "python",
   "nbconvert_exporter": "python",
   "pygments_lexer": "ipython3",
   "version": "3.9.6"
  }
 },
 "nbformat": 4,
 "nbformat_minor": 5
}
